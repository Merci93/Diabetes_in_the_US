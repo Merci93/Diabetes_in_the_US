{
 "cells": [
  {
   "cell_type": "markdown",
   "id": "fc7943d7",
   "metadata": {},
   "source": [
    "# An analysis of the diabetes data in the United States\n",
    "                                                                                            By: David Ugochukwu Asogwa\n",
    "                                                                                            July 19, 2022\n",
    "The dataset represents a record of 10 years of diabetes patients treatment and hospital visitation in the United States from 1999 to 2008. The dataset contains clinical care at 130 US hospitals and integrated delivery networks. It includes over 50 features representing patient and hospital outcomes. Included in the features are race, gender, age, diabetes medication and more. Analysis and visualizations will be performed using this data to derive insights on the relationships between diabetes patients and age, weight, race, gender, insulin level and effects of medications when recommended. The dataset contains 101,766 rows and 51 columns.\n",
    "\n",
    "To carry out this analysis, the data integrity have to be verified in other to clean up quality and tidiness issues.\n",
    "\n",
    "Dataset obtained from Kaggle: https://www.kaggle.com/datasets/jimschacko/10-years-diabetes-dataset"
   ]
  },
  {
   "cell_type": "code",
   "execution_count": 1,
   "id": "2e763047",
   "metadata": {
    "scrolled": true
   },
   "outputs": [],
   "source": [
    "import pandas as pd\n",
    "import numpy as np\n",
    "import seaborn as sb\n",
    "import matplotlib.pyplot as plt\n",
    "%matplotlib inline\n",
    "\n",
    "#reading csv file and accessing\n",
    "diabetes = pd.read_csv('diabetes.csv')"
   ]
  },
  {
   "cell_type": "markdown",
   "id": "7cfbdc4b",
   "metadata": {},
   "source": [
    "# <span style = 'color:blue'> Assessing Data set</span>"
   ]
  },
  {
   "cell_type": "code",
   "execution_count": 2,
   "id": "1a4e4ba1",
   "metadata": {},
   "outputs": [
    {
     "name": "stdout",
     "output_type": "stream",
     "text": [
      "(101766, 51)\n"
     ]
    },
    {
     "data": {
      "text/html": [
       "<div>\n",
       "<style scoped>\n",
       "    .dataframe tbody tr th:only-of-type {\n",
       "        vertical-align: middle;\n",
       "    }\n",
       "\n",
       "    .dataframe tbody tr th {\n",
       "        vertical-align: top;\n",
       "    }\n",
       "\n",
       "    .dataframe thead th {\n",
       "        text-align: right;\n",
       "    }\n",
       "</style>\n",
       "<table border=\"1\" class=\"dataframe\">\n",
       "  <thead>\n",
       "    <tr style=\"text-align: right;\">\n",
       "      <th></th>\n",
       "      <th>id</th>\n",
       "      <th>encounter_id</th>\n",
       "      <th>patient_nbr</th>\n",
       "      <th>race</th>\n",
       "      <th>gender</th>\n",
       "      <th>age</th>\n",
       "      <th>weight</th>\n",
       "      <th>admission_type_id</th>\n",
       "      <th>discharge_disposition_id</th>\n",
       "      <th>admission_source_id</th>\n",
       "      <th>...</th>\n",
       "      <th>citoglipton</th>\n",
       "      <th>insulin</th>\n",
       "      <th>glyburide.metformin</th>\n",
       "      <th>glipizide.metformin</th>\n",
       "      <th>glimepiride.pioglitazone</th>\n",
       "      <th>metformin.rosiglitazone</th>\n",
       "      <th>metformin.pioglitazone</th>\n",
       "      <th>change</th>\n",
       "      <th>diabetesMed</th>\n",
       "      <th>readmitted</th>\n",
       "    </tr>\n",
       "  </thead>\n",
       "  <tbody>\n",
       "    <tr>\n",
       "      <th>0</th>\n",
       "      <td>1</td>\n",
       "      <td>2278392</td>\n",
       "      <td>8222157</td>\n",
       "      <td>Caucasian</td>\n",
       "      <td>Female</td>\n",
       "      <td>[0-10)</td>\n",
       "      <td>?</td>\n",
       "      <td>6</td>\n",
       "      <td>25</td>\n",
       "      <td>1</td>\n",
       "      <td>...</td>\n",
       "      <td>No</td>\n",
       "      <td>No</td>\n",
       "      <td>No</td>\n",
       "      <td>No</td>\n",
       "      <td>No</td>\n",
       "      <td>No</td>\n",
       "      <td>No</td>\n",
       "      <td>No</td>\n",
       "      <td>No</td>\n",
       "      <td>NO</td>\n",
       "    </tr>\n",
       "    <tr>\n",
       "      <th>1</th>\n",
       "      <td>2</td>\n",
       "      <td>149190</td>\n",
       "      <td>55629189</td>\n",
       "      <td>Caucasian</td>\n",
       "      <td>Female</td>\n",
       "      <td>[10-20)</td>\n",
       "      <td>?</td>\n",
       "      <td>1</td>\n",
       "      <td>1</td>\n",
       "      <td>7</td>\n",
       "      <td>...</td>\n",
       "      <td>No</td>\n",
       "      <td>Up</td>\n",
       "      <td>No</td>\n",
       "      <td>No</td>\n",
       "      <td>No</td>\n",
       "      <td>No</td>\n",
       "      <td>No</td>\n",
       "      <td>Ch</td>\n",
       "      <td>Yes</td>\n",
       "      <td>&gt;30</td>\n",
       "    </tr>\n",
       "    <tr>\n",
       "      <th>2</th>\n",
       "      <td>3</td>\n",
       "      <td>64410</td>\n",
       "      <td>86047875</td>\n",
       "      <td>AfricanAmerican</td>\n",
       "      <td>Female</td>\n",
       "      <td>[20-30)</td>\n",
       "      <td>?</td>\n",
       "      <td>1</td>\n",
       "      <td>1</td>\n",
       "      <td>7</td>\n",
       "      <td>...</td>\n",
       "      <td>No</td>\n",
       "      <td>No</td>\n",
       "      <td>No</td>\n",
       "      <td>No</td>\n",
       "      <td>No</td>\n",
       "      <td>No</td>\n",
       "      <td>No</td>\n",
       "      <td>No</td>\n",
       "      <td>Yes</td>\n",
       "      <td>NO</td>\n",
       "    </tr>\n",
       "    <tr>\n",
       "      <th>3</th>\n",
       "      <td>4</td>\n",
       "      <td>500364</td>\n",
       "      <td>82442376</td>\n",
       "      <td>Caucasian</td>\n",
       "      <td>Male</td>\n",
       "      <td>[30-40)</td>\n",
       "      <td>?</td>\n",
       "      <td>1</td>\n",
       "      <td>1</td>\n",
       "      <td>7</td>\n",
       "      <td>...</td>\n",
       "      <td>No</td>\n",
       "      <td>Up</td>\n",
       "      <td>No</td>\n",
       "      <td>No</td>\n",
       "      <td>No</td>\n",
       "      <td>No</td>\n",
       "      <td>No</td>\n",
       "      <td>Ch</td>\n",
       "      <td>Yes</td>\n",
       "      <td>NO</td>\n",
       "    </tr>\n",
       "    <tr>\n",
       "      <th>4</th>\n",
       "      <td>5</td>\n",
       "      <td>16680</td>\n",
       "      <td>42519267</td>\n",
       "      <td>Caucasian</td>\n",
       "      <td>Male</td>\n",
       "      <td>[40-50)</td>\n",
       "      <td>?</td>\n",
       "      <td>1</td>\n",
       "      <td>1</td>\n",
       "      <td>7</td>\n",
       "      <td>...</td>\n",
       "      <td>No</td>\n",
       "      <td>Steady</td>\n",
       "      <td>No</td>\n",
       "      <td>No</td>\n",
       "      <td>No</td>\n",
       "      <td>No</td>\n",
       "      <td>No</td>\n",
       "      <td>Ch</td>\n",
       "      <td>Yes</td>\n",
       "      <td>NO</td>\n",
       "    </tr>\n",
       "  </tbody>\n",
       "</table>\n",
       "<p>5 rows × 51 columns</p>\n",
       "</div>"
      ],
      "text/plain": [
       "   id  encounter_id  patient_nbr             race  gender      age weight  \\\n",
       "0   1       2278392      8222157        Caucasian  Female   [0-10)      ?   \n",
       "1   2        149190     55629189        Caucasian  Female  [10-20)      ?   \n",
       "2   3         64410     86047875  AfricanAmerican  Female  [20-30)      ?   \n",
       "3   4        500364     82442376        Caucasian    Male  [30-40)      ?   \n",
       "4   5         16680     42519267        Caucasian    Male  [40-50)      ?   \n",
       "\n",
       "   admission_type_id  discharge_disposition_id  admission_source_id  ...  \\\n",
       "0                  6                        25                    1  ...   \n",
       "1                  1                         1                    7  ...   \n",
       "2                  1                         1                    7  ...   \n",
       "3                  1                         1                    7  ...   \n",
       "4                  1                         1                    7  ...   \n",
       "\n",
       "   citoglipton insulin glyburide.metformin  glipizide.metformin  \\\n",
       "0           No      No                  No                   No   \n",
       "1           No      Up                  No                   No   \n",
       "2           No      No                  No                   No   \n",
       "3           No      Up                  No                   No   \n",
       "4           No  Steady                  No                   No   \n",
       "\n",
       "   glimepiride.pioglitazone  metformin.rosiglitazone  metformin.pioglitazone  \\\n",
       "0                        No                       No                      No   \n",
       "1                        No                       No                      No   \n",
       "2                        No                       No                      No   \n",
       "3                        No                       No                      No   \n",
       "4                        No                       No                      No   \n",
       "\n",
       "   change  diabetesMed readmitted  \n",
       "0      No           No         NO  \n",
       "1      Ch          Yes        >30  \n",
       "2      No          Yes         NO  \n",
       "3      Ch          Yes         NO  \n",
       "4      Ch          Yes         NO  \n",
       "\n",
       "[5 rows x 51 columns]"
      ]
     },
     "execution_count": 2,
     "metadata": {},
     "output_type": "execute_result"
    }
   ],
   "source": [
    "print(diabetes.shape)\n",
    "diabetes.head()"
   ]
  },
  {
   "cell_type": "markdown",
   "id": "5aaf60a9",
   "metadata": {},
   "source": [
    "<span style = 'color:blue'>This dataset appears not to be clean. From the weight column, there are missing values seen as **question marks (?)**. There is a high probability same might have occured in other columns and these values will be huge. Let's explore, find out the quality and tidiness issues and profer solutions.</span>"
   ]
  },
  {
   "cell_type": "code",
   "execution_count": 3,
   "id": "9659b74d",
   "metadata": {},
   "outputs": [
    {
     "data": {
      "text/html": [
       "<div>\n",
       "<style scoped>\n",
       "    .dataframe tbody tr th:only-of-type {\n",
       "        vertical-align: middle;\n",
       "    }\n",
       "\n",
       "    .dataframe tbody tr th {\n",
       "        vertical-align: top;\n",
       "    }\n",
       "\n",
       "    .dataframe thead th {\n",
       "        text-align: right;\n",
       "    }\n",
       "</style>\n",
       "<table border=\"1\" class=\"dataframe\">\n",
       "  <thead>\n",
       "    <tr style=\"text-align: right;\">\n",
       "      <th></th>\n",
       "      <th>id</th>\n",
       "      <th>encounter_id</th>\n",
       "      <th>patient_nbr</th>\n",
       "      <th>admission_type_id</th>\n",
       "      <th>discharge_disposition_id</th>\n",
       "      <th>admission_source_id</th>\n",
       "      <th>time_in_hospital</th>\n",
       "      <th>num_lab_procedures</th>\n",
       "      <th>num_procedures</th>\n",
       "      <th>num_medications</th>\n",
       "      <th>number_outpatient</th>\n",
       "      <th>number_emergency</th>\n",
       "      <th>number_inpatient</th>\n",
       "      <th>number_diagnoses</th>\n",
       "    </tr>\n",
       "  </thead>\n",
       "  <tbody>\n",
       "    <tr>\n",
       "      <th>count</th>\n",
       "      <td>101766.000000</td>\n",
       "      <td>1.017660e+05</td>\n",
       "      <td>1.017660e+05</td>\n",
       "      <td>101766.000000</td>\n",
       "      <td>101766.000000</td>\n",
       "      <td>101766.000000</td>\n",
       "      <td>101766.000000</td>\n",
       "      <td>101766.000000</td>\n",
       "      <td>101766.000000</td>\n",
       "      <td>101766.000000</td>\n",
       "      <td>101766.000000</td>\n",
       "      <td>101766.000000</td>\n",
       "      <td>101766.000000</td>\n",
       "      <td>101766.000000</td>\n",
       "    </tr>\n",
       "    <tr>\n",
       "      <th>mean</th>\n",
       "      <td>50883.500000</td>\n",
       "      <td>1.652016e+08</td>\n",
       "      <td>5.433040e+07</td>\n",
       "      <td>2.024006</td>\n",
       "      <td>3.715642</td>\n",
       "      <td>5.754437</td>\n",
       "      <td>4.395987</td>\n",
       "      <td>43.095641</td>\n",
       "      <td>1.339730</td>\n",
       "      <td>16.021844</td>\n",
       "      <td>0.369357</td>\n",
       "      <td>0.197836</td>\n",
       "      <td>0.635566</td>\n",
       "      <td>7.422607</td>\n",
       "    </tr>\n",
       "    <tr>\n",
       "      <th>std</th>\n",
       "      <td>29377.458084</td>\n",
       "      <td>1.026403e+08</td>\n",
       "      <td>3.869636e+07</td>\n",
       "      <td>1.445403</td>\n",
       "      <td>5.280166</td>\n",
       "      <td>4.064081</td>\n",
       "      <td>2.985108</td>\n",
       "      <td>19.674362</td>\n",
       "      <td>1.705807</td>\n",
       "      <td>8.127566</td>\n",
       "      <td>1.267265</td>\n",
       "      <td>0.930472</td>\n",
       "      <td>1.262863</td>\n",
       "      <td>1.933600</td>\n",
       "    </tr>\n",
       "    <tr>\n",
       "      <th>min</th>\n",
       "      <td>1.000000</td>\n",
       "      <td>1.252200e+04</td>\n",
       "      <td>1.350000e+02</td>\n",
       "      <td>1.000000</td>\n",
       "      <td>1.000000</td>\n",
       "      <td>1.000000</td>\n",
       "      <td>1.000000</td>\n",
       "      <td>1.000000</td>\n",
       "      <td>0.000000</td>\n",
       "      <td>1.000000</td>\n",
       "      <td>0.000000</td>\n",
       "      <td>0.000000</td>\n",
       "      <td>0.000000</td>\n",
       "      <td>1.000000</td>\n",
       "    </tr>\n",
       "    <tr>\n",
       "      <th>25%</th>\n",
       "      <td>25442.250000</td>\n",
       "      <td>8.496119e+07</td>\n",
       "      <td>2.341322e+07</td>\n",
       "      <td>1.000000</td>\n",
       "      <td>1.000000</td>\n",
       "      <td>1.000000</td>\n",
       "      <td>2.000000</td>\n",
       "      <td>31.000000</td>\n",
       "      <td>0.000000</td>\n",
       "      <td>10.000000</td>\n",
       "      <td>0.000000</td>\n",
       "      <td>0.000000</td>\n",
       "      <td>0.000000</td>\n",
       "      <td>6.000000</td>\n",
       "    </tr>\n",
       "    <tr>\n",
       "      <th>50%</th>\n",
       "      <td>50883.500000</td>\n",
       "      <td>1.523890e+08</td>\n",
       "      <td>4.550514e+07</td>\n",
       "      <td>1.000000</td>\n",
       "      <td>1.000000</td>\n",
       "      <td>7.000000</td>\n",
       "      <td>4.000000</td>\n",
       "      <td>44.000000</td>\n",
       "      <td>1.000000</td>\n",
       "      <td>15.000000</td>\n",
       "      <td>0.000000</td>\n",
       "      <td>0.000000</td>\n",
       "      <td>0.000000</td>\n",
       "      <td>8.000000</td>\n",
       "    </tr>\n",
       "    <tr>\n",
       "      <th>75%</th>\n",
       "      <td>76324.750000</td>\n",
       "      <td>2.302709e+08</td>\n",
       "      <td>8.754595e+07</td>\n",
       "      <td>3.000000</td>\n",
       "      <td>4.000000</td>\n",
       "      <td>7.000000</td>\n",
       "      <td>6.000000</td>\n",
       "      <td>57.000000</td>\n",
       "      <td>2.000000</td>\n",
       "      <td>20.000000</td>\n",
       "      <td>0.000000</td>\n",
       "      <td>0.000000</td>\n",
       "      <td>1.000000</td>\n",
       "      <td>9.000000</td>\n",
       "    </tr>\n",
       "    <tr>\n",
       "      <th>max</th>\n",
       "      <td>101766.000000</td>\n",
       "      <td>4.438672e+08</td>\n",
       "      <td>1.895026e+08</td>\n",
       "      <td>8.000000</td>\n",
       "      <td>28.000000</td>\n",
       "      <td>25.000000</td>\n",
       "      <td>14.000000</td>\n",
       "      <td>132.000000</td>\n",
       "      <td>6.000000</td>\n",
       "      <td>81.000000</td>\n",
       "      <td>42.000000</td>\n",
       "      <td>76.000000</td>\n",
       "      <td>21.000000</td>\n",
       "      <td>16.000000</td>\n",
       "    </tr>\n",
       "  </tbody>\n",
       "</table>\n",
       "</div>"
      ],
      "text/plain": [
       "                  id  encounter_id   patient_nbr  admission_type_id  \\\n",
       "count  101766.000000  1.017660e+05  1.017660e+05      101766.000000   \n",
       "mean    50883.500000  1.652016e+08  5.433040e+07           2.024006   \n",
       "std     29377.458084  1.026403e+08  3.869636e+07           1.445403   \n",
       "min         1.000000  1.252200e+04  1.350000e+02           1.000000   \n",
       "25%     25442.250000  8.496119e+07  2.341322e+07           1.000000   \n",
       "50%     50883.500000  1.523890e+08  4.550514e+07           1.000000   \n",
       "75%     76324.750000  2.302709e+08  8.754595e+07           3.000000   \n",
       "max    101766.000000  4.438672e+08  1.895026e+08           8.000000   \n",
       "\n",
       "       discharge_disposition_id  admission_source_id  time_in_hospital  \\\n",
       "count             101766.000000        101766.000000     101766.000000   \n",
       "mean                   3.715642             5.754437          4.395987   \n",
       "std                    5.280166             4.064081          2.985108   \n",
       "min                    1.000000             1.000000          1.000000   \n",
       "25%                    1.000000             1.000000          2.000000   \n",
       "50%                    1.000000             7.000000          4.000000   \n",
       "75%                    4.000000             7.000000          6.000000   \n",
       "max                   28.000000            25.000000         14.000000   \n",
       "\n",
       "       num_lab_procedures  num_procedures  num_medications  number_outpatient  \\\n",
       "count       101766.000000   101766.000000    101766.000000      101766.000000   \n",
       "mean            43.095641        1.339730        16.021844           0.369357   \n",
       "std             19.674362        1.705807         8.127566           1.267265   \n",
       "min              1.000000        0.000000         1.000000           0.000000   \n",
       "25%             31.000000        0.000000        10.000000           0.000000   \n",
       "50%             44.000000        1.000000        15.000000           0.000000   \n",
       "75%             57.000000        2.000000        20.000000           0.000000   \n",
       "max            132.000000        6.000000        81.000000          42.000000   \n",
       "\n",
       "       number_emergency  number_inpatient  number_diagnoses  \n",
       "count     101766.000000     101766.000000     101766.000000  \n",
       "mean           0.197836          0.635566          7.422607  \n",
       "std            0.930472          1.262863          1.933600  \n",
       "min            0.000000          0.000000          1.000000  \n",
       "25%            0.000000          0.000000          6.000000  \n",
       "50%            0.000000          0.000000          8.000000  \n",
       "75%            0.000000          1.000000          9.000000  \n",
       "max           76.000000         21.000000         16.000000  "
      ]
     },
     "execution_count": 3,
     "metadata": {},
     "output_type": "execute_result"
    }
   ],
   "source": [
    "diabetes.describe()"
   ]
  },
  {
   "cell_type": "code",
   "execution_count": 4,
   "id": "420eb5da",
   "metadata": {},
   "outputs": [
    {
     "data": {
      "text/plain": [
       "id                          0\n",
       "encounter_id                0\n",
       "patient_nbr                 0\n",
       "race                        0\n",
       "gender                      0\n",
       "age                         0\n",
       "weight                      0\n",
       "admission_type_id           0\n",
       "discharge_disposition_id    0\n",
       "admission_source_id         0\n",
       "time_in_hospital            0\n",
       "payer_code                  0\n",
       "medical_specialty           0\n",
       "num_lab_procedures          0\n",
       "num_procedures              0\n",
       "num_medications             0\n",
       "number_outpatient           0\n",
       "number_emergency            0\n",
       "number_inpatient            0\n",
       "diag_1                      0\n",
       "diag_2                      0\n",
       "diag_3                      0\n",
       "number_diagnoses            0\n",
       "max_glu_serum               0\n",
       "A1Cresult                   0\n",
       "metformin                   0\n",
       "repaglinide                 0\n",
       "nateglinide                 0\n",
       "chlorpropamide              0\n",
       "glimepiride                 0\n",
       "acetohexamide               0\n",
       "glipizide                   0\n",
       "glyburide                   0\n",
       "tolbutamide                 0\n",
       "pioglitazone                0\n",
       "rosiglitazone               0\n",
       "acarbose                    0\n",
       "miglitol                    0\n",
       "troglitazone                0\n",
       "tolazamide                  0\n",
       "examide                     0\n",
       "citoglipton                 0\n",
       "insulin                     0\n",
       "glyburide.metformin         0\n",
       "glipizide.metformin         0\n",
       "glimepiride.pioglitazone    0\n",
       "metformin.rosiglitazone     0\n",
       "metformin.pioglitazone      0\n",
       "change                      0\n",
       "diabetesMed                 0\n",
       "readmitted                  0\n",
       "dtype: int64"
      ]
     },
     "execution_count": 4,
     "metadata": {},
     "output_type": "execute_result"
    }
   ],
   "source": [
    "diabetes.isnull().sum()"
   ]
  },
  {
   "cell_type": "markdown",
   "id": "b5639304",
   "metadata": {},
   "source": [
    "<span style = 'color:blue'>All columns are filled. No missing values.</span>"
   ]
  },
  {
   "cell_type": "code",
   "execution_count": 5,
   "id": "82750477",
   "metadata": {},
   "outputs": [
    {
     "data": {
      "text/plain": [
       "0"
      ]
     },
     "execution_count": 5,
     "metadata": {},
     "output_type": "execute_result"
    }
   ],
   "source": [
    "diabetes.duplicated().sum()"
   ]
  },
  {
   "cell_type": "markdown",
   "id": "dc99b79d",
   "metadata": {},
   "source": [
    "<span style = 'color:blue'>The dataset as a whole has no duplicated value.</span>"
   ]
  },
  {
   "cell_type": "code",
   "execution_count": 6,
   "id": "2bb59148",
   "metadata": {},
   "outputs": [
    {
     "name": "stdout",
     "output_type": "stream",
     "text": [
      "30248\n",
      "0\n"
     ]
    }
   ],
   "source": [
    "print(diabetes.patient_nbr.duplicated().sum())\n",
    "print(diabetes.encounter_id.duplicated().sum())"
   ]
  },
  {
   "cell_type": "code",
   "execution_count": 7,
   "id": "67067af7",
   "metadata": {},
   "outputs": [
    {
     "name": "stdout",
     "output_type": "stream",
     "text": [
      "71518\n",
      "101766\n"
     ]
    }
   ],
   "source": [
    "print(diabetes.patient_nbr.nunique())\n",
    "print(diabetes.encounter_id.nunique())"
   ]
  },
  {
   "cell_type": "code",
   "execution_count": 8,
   "id": "d107f075",
   "metadata": {},
   "outputs": [
    {
     "name": "stdout",
     "output_type": "stream",
     "text": [
      "Patient_nbr has 71518 unique values and 30248 duplicates, summing up to 101766\n"
     ]
    }
   ],
   "source": [
    "print('Patient_nbr has {} unique values and {} duplicates, summing up to {}'\n",
    "      .format(diabetes.patient_nbr.nunique(), diabetes.patient_nbr.duplicated().sum(),\n",
    "      diabetes.patient_nbr.nunique() + diabetes.patient_nbr.duplicated().sum()));"
   ]
  },
  {
   "cell_type": "markdown",
   "id": "281fefc4",
   "metadata": {},
   "source": [
    "<span style = 'color:blue'>Checking the **patient_nbr** for duplicated values, there appears to be **30,248 duplicates**. To further buttress this observation, **encounter_id** was checked for duplicates and it turned out to be **zero (0)**. This means the duplicates in the patient_nbr are not actually duplicates but **patients that had multiple checks/treatments**, and since their patient_nbr is unique, it cannot be changed, unlike the encounter_id.</span>"
   ]
  },
  {
   "cell_type": "code",
   "execution_count": 9,
   "id": "8ba175a6",
   "metadata": {},
   "outputs": [],
   "source": [
    "# count function\n",
    "def count(df, df_string, column_name):\n",
    "    \"\"\"\n",
    "    A fuction to count values in a column, and displays the results.\n",
    "    \n",
    "    Args:\n",
    "        df: dataset or dataframe\n",
    "        df_string: dataframe name as a string\n",
    "        column_name: name of column to count values\n",
    "    \"\"\"\n",
    "    print('Here are the results from {} column in {} dataset'.format(column_name, df_string))\n",
    "    return df[column_name].value_counts()"
   ]
  },
  {
   "cell_type": "code",
   "execution_count": 10,
   "id": "4ccbe142",
   "metadata": {},
   "outputs": [
    {
     "name": "stdout",
     "output_type": "stream",
     "text": [
      "Here are the results from race column in diabetes dataset\n"
     ]
    },
    {
     "data": {
      "text/plain": [
       "Caucasian          76099\n",
       "AfricanAmerican    19210\n",
       "?                   2273\n",
       "Hispanic            2037\n",
       "Other               1506\n",
       "Asian                641\n",
       "Name: race, dtype: int64"
      ]
     },
     "execution_count": 10,
     "metadata": {},
     "output_type": "execute_result"
    }
   ],
   "source": [
    "count(diabetes, 'diabetes', 'race')"
   ]
  },
  {
   "cell_type": "markdown",
   "id": "1bbee0f4",
   "metadata": {},
   "source": [
    "<span style = 'color:blue'>Values with **question mark (?)** will be replaced with **other**, since they are unknown, and **AfricanAmerican** replaced with **African-American**</span>"
   ]
  },
  {
   "cell_type": "code",
   "execution_count": 11,
   "id": "0c517467",
   "metadata": {},
   "outputs": [
    {
     "name": "stdout",
     "output_type": "stream",
     "text": [
      "Here are the results from gender column in diabetes dataset\n"
     ]
    },
    {
     "data": {
      "text/plain": [
       "Female             54708\n",
       "Male               47055\n",
       "Unknown/Invalid        3\n",
       "Name: gender, dtype: int64"
      ]
     },
     "execution_count": 11,
     "metadata": {},
     "output_type": "execute_result"
    }
   ],
   "source": [
    "count(diabetes,'diabetes', 'gender')"
   ]
  },
  {
   "cell_type": "code",
   "execution_count": 12,
   "id": "4aa16ff2",
   "metadata": {},
   "outputs": [
    {
     "name": "stdout",
     "output_type": "stream",
     "text": [
      "Here are the results from weight column in diabetes dataset\n"
     ]
    },
    {
     "data": {
      "text/plain": [
       "?            98569\n",
       "[75-100)      1336\n",
       "[50-75)        897\n",
       "[100-125)      625\n",
       "[125-150)      145\n",
       "[25-50)         97\n",
       "[0-25)          48\n",
       "[150-175)       35\n",
       "[175-200)       11\n",
       ">200             3\n",
       "Name: weight, dtype: int64"
      ]
     },
     "execution_count": 12,
     "metadata": {},
     "output_type": "execute_result"
    }
   ],
   "source": [
    "count(diabetes,'diabetes', 'weight')"
   ]
  },
  {
   "cell_type": "markdown",
   "id": "97559823",
   "metadata": {},
   "source": [
    "<span style = 'color:blue'> Most the values in the weight column are missing. Let's investigate to know what percentage are actually missing.</span>"
   ]
  },
  {
   "cell_type": "code",
   "execution_count": 13,
   "id": "547bce5b",
   "metadata": {},
   "outputs": [
    {
     "name": "stdout",
     "output_type": "stream",
     "text": [
      "Here are the results from weight column in diabetes dataset\n"
     ]
    },
    {
     "data": {
      "text/plain": [
       "?            96.858479\n",
       "[75-100)      1.312816\n",
       "[50-75)       0.881434\n",
       "[100-125)     0.614154\n",
       "[125-150)     0.142484\n",
       "[25-50)       0.095317\n",
       "[0-25)        0.047167\n",
       "[150-175)     0.034393\n",
       "[175-200)     0.010809\n",
       ">200          0.002948\n",
       "Name: weight, dtype: float64"
      ]
     },
     "execution_count": 13,
     "metadata": {},
     "output_type": "execute_result"
    }
   ],
   "source": [
    "(count(diabetes,'diabetes', 'weight')/diabetes.shape[0]) * 100"
   ]
  },
  {
   "cell_type": "markdown",
   "id": "984985ed",
   "metadata": {},
   "source": [
    "<span style = 'color:blue'>Approximately **97%** of this column is unknown. It will be dropped.</span>"
   ]
  },
  {
   "cell_type": "code",
   "execution_count": 14,
   "id": "03558de3",
   "metadata": {},
   "outputs": [
    {
     "name": "stdout",
     "output_type": "stream",
     "text": [
      "Here are the results from admission_type_id column in diabetes dataset\n"
     ]
    },
    {
     "data": {
      "text/plain": [
       "1    53990\n",
       "3    18869\n",
       "2    18480\n",
       "6     5291\n",
       "5     4785\n",
       "8      320\n",
       "7       21\n",
       "4       10\n",
       "Name: admission_type_id, dtype: int64"
      ]
     },
     "execution_count": 14,
     "metadata": {},
     "output_type": "execute_result"
    }
   ],
   "source": [
    "count(diabetes,'diabetes', 'admission_type_id')"
   ]
  },
  {
   "cell_type": "markdown",
   "id": "5104a1ff",
   "metadata": {},
   "source": [
    "<span style = 'color:blue'>The admission_type_id does not really communicate what it stands for without looking at the feature definition. This will be mapped with their id definitions and also renamed to **admission_type**.</span>"
   ]
  },
  {
   "cell_type": "code",
   "execution_count": 15,
   "id": "122885f8",
   "metadata": {},
   "outputs": [
    {
     "name": "stdout",
     "output_type": "stream",
     "text": [
      "Here are the results from admission_source_id column in diabetes dataset\n"
     ]
    },
    {
     "data": {
      "text/plain": [
       "7     57494\n",
       "1     29565\n",
       "17     6781\n",
       "4      3187\n",
       "6      2264\n",
       "2      1104\n",
       "5       855\n",
       "3       187\n",
       "20      161\n",
       "9       125\n",
       "8        16\n",
       "22       12\n",
       "10        8\n",
       "14        2\n",
       "11        2\n",
       "25        2\n",
       "13        1\n",
       "Name: admission_source_id, dtype: int64"
      ]
     },
     "execution_count": 15,
     "metadata": {},
     "output_type": "execute_result"
    }
   ],
   "source": [
    "count(diabetes,'diabetes', 'admission_source_id')"
   ]
  },
  {
   "cell_type": "code",
   "execution_count": 16,
   "id": "c973e244",
   "metadata": {},
   "outputs": [
    {
     "name": "stdout",
     "output_type": "stream",
     "text": [
      "Here are the results from medical_specialty column in diabetes dataset\n"
     ]
    },
    {
     "data": {
      "text/plain": [
       "?                                49949\n",
       "InternalMedicine                 14635\n",
       "Emergency/Trauma                  7565\n",
       "Family/GeneralPractice            7440\n",
       "Cardiology                        5352\n",
       "                                 ...  \n",
       "SportsMedicine                       1\n",
       "Speech                               1\n",
       "Perinatology                         1\n",
       "Neurophysiology                      1\n",
       "Pediatrics-InfectiousDiseases        1\n",
       "Name: medical_specialty, Length: 73, dtype: int64"
      ]
     },
     "execution_count": 16,
     "metadata": {},
     "output_type": "execute_result"
    }
   ],
   "source": [
    "count(diabetes,'diabetes', 'medical_specialty')"
   ]
  },
  {
   "cell_type": "markdown",
   "id": "a944bceb",
   "metadata": {},
   "source": [
    "<span style = 'color:blue'>Showing the patients preference for a specialty, the dataset contains rows with unknown values. These rows will be replaced with **Other**.</span>"
   ]
  },
  {
   "cell_type": "code",
   "execution_count": 17,
   "id": "22f38eae",
   "metadata": {},
   "outputs": [
    {
     "name": "stdout",
     "output_type": "stream",
     "text": [
      "Here are the results from number_outpatient column in diabetes dataset\n"
     ]
    },
    {
     "data": {
      "text/plain": [
       "0     85027\n",
       "1      8547\n",
       "2      3594\n",
       "3      2042\n",
       "4      1099\n",
       "5       533\n",
       "6       303\n",
       "7       155\n",
       "8        98\n",
       "9        83\n",
       "10       57\n",
       "11       42\n",
       "13       31\n",
       "12       30\n",
       "14       28\n",
       "15       20\n",
       "16       15\n",
       "17        8\n",
       "21        7\n",
       "20        7\n",
       "18        5\n",
       "22        5\n",
       "19        3\n",
       "27        3\n",
       "24        3\n",
       "26        2\n",
       "23        2\n",
       "25        2\n",
       "33        2\n",
       "35        2\n",
       "36        2\n",
       "29        2\n",
       "34        1\n",
       "39        1\n",
       "42        1\n",
       "28        1\n",
       "37        1\n",
       "38        1\n",
       "40        1\n",
       "Name: number_outpatient, dtype: int64"
      ]
     },
     "execution_count": 17,
     "metadata": {},
     "output_type": "execute_result"
    }
   ],
   "source": [
    "count(diabetes,'diabetes', 'number_outpatient')"
   ]
  },
  {
   "cell_type": "code",
   "execution_count": 18,
   "id": "b717bcdb",
   "metadata": {},
   "outputs": [
    {
     "name": "stdout",
     "output_type": "stream",
     "text": [
      "Here are the results from number_emergency column in diabetes dataset\n"
     ]
    },
    {
     "data": {
      "text/plain": [
       "0     90383\n",
       "1      7677\n",
       "2      2042\n",
       "3       725\n",
       "4       374\n",
       "5       192\n",
       "6        94\n",
       "7        73\n",
       "8        50\n",
       "10       34\n",
       "9        33\n",
       "11       23\n",
       "13       12\n",
       "12       10\n",
       "22        6\n",
       "16        5\n",
       "18        5\n",
       "19        4\n",
       "20        4\n",
       "15        3\n",
       "14        3\n",
       "25        2\n",
       "21        2\n",
       "28        1\n",
       "42        1\n",
       "46        1\n",
       "76        1\n",
       "37        1\n",
       "64        1\n",
       "63        1\n",
       "54        1\n",
       "24        1\n",
       "29        1\n",
       "Name: number_emergency, dtype: int64"
      ]
     },
     "execution_count": 18,
     "metadata": {},
     "output_type": "execute_result"
    }
   ],
   "source": [
    "count(diabetes,'diabetes', 'number_emergency')"
   ]
  },
  {
   "cell_type": "code",
   "execution_count": 19,
   "id": "4da8a93f",
   "metadata": {},
   "outputs": [
    {
     "name": "stdout",
     "output_type": "stream",
     "text": [
      "Here are the results from number_inpatient column in diabetes dataset\n"
     ]
    },
    {
     "data": {
      "text/plain": [
       "0     67630\n",
       "1     19521\n",
       "2      7566\n",
       "3      3411\n",
       "4      1622\n",
       "5       812\n",
       "6       480\n",
       "7       268\n",
       "8       151\n",
       "9       111\n",
       "10       61\n",
       "11       49\n",
       "12       34\n",
       "13       20\n",
       "14       10\n",
       "15        9\n",
       "16        6\n",
       "19        2\n",
       "17        1\n",
       "21        1\n",
       "18        1\n",
       "Name: number_inpatient, dtype: int64"
      ]
     },
     "execution_count": 19,
     "metadata": {},
     "output_type": "execute_result"
    }
   ],
   "source": [
    "count(diabetes,'diabetes', 'number_inpatient')"
   ]
  },
  {
   "cell_type": "markdown",
   "id": "c3dba6c4",
   "metadata": {},
   "source": [
    "<span style = 'color:blue'>The **number_outpatient**, **number_emergency** and **number_inpatient** indicate the number of times these events occur, that is, how many times there was ana emergency, number of times the patient was an inpatient and outpatient.</span>"
   ]
  },
  {
   "cell_type": "code",
   "execution_count": 20,
   "id": "675dc48f",
   "metadata": {},
   "outputs": [
    {
     "name": "stdout",
     "output_type": "stream",
     "text": [
      "Here are the results from number_diagnoses column in diabetes dataset\n"
     ]
    },
    {
     "data": {
      "text/plain": [
       "9     49474\n",
       "5     11393\n",
       "8     10616\n",
       "7     10393\n",
       "6     10161\n",
       "4      5537\n",
       "3      2835\n",
       "2      1023\n",
       "1       219\n",
       "16       45\n",
       "10       17\n",
       "13       16\n",
       "11       11\n",
       "15       10\n",
       "12        9\n",
       "14        7\n",
       "Name: number_diagnoses, dtype: int64"
      ]
     },
     "execution_count": 20,
     "metadata": {},
     "output_type": "execute_result"
    }
   ],
   "source": [
    "count(diabetes,'diabetes', 'number_diagnoses')"
   ]
  },
  {
   "cell_type": "code",
   "execution_count": 21,
   "id": "344b022f",
   "metadata": {},
   "outputs": [
    {
     "name": "stdout",
     "output_type": "stream",
     "text": [
      "Here are the results from max_glu_serum column in diabetes dataset\n"
     ]
    },
    {
     "data": {
      "text/plain": [
       "None    96420\n",
       "Norm     2597\n",
       ">200     1485\n",
       ">300     1264\n",
       "Name: max_glu_serum, dtype: int64"
      ]
     },
     "execution_count": 21,
     "metadata": {},
     "output_type": "execute_result"
    }
   ],
   "source": [
    "count(diabetes,'diabetes', 'max_glu_serum')"
   ]
  },
  {
   "cell_type": "markdown",
   "id": "7fcb8302",
   "metadata": {},
   "source": [
    "<span style = 'color:blue'>Column looks good, but will be renamed to **glucose_serum**, and **Norm** replaced with **Normal**</span>"
   ]
  },
  {
   "cell_type": "code",
   "execution_count": 22,
   "id": "f2759c08",
   "metadata": {},
   "outputs": [
    {
     "name": "stdout",
     "output_type": "stream",
     "text": [
      "Here are the results from A1Cresult column in diabetes dataset\n"
     ]
    },
    {
     "data": {
      "text/plain": [
       "None    84748\n",
       ">8       8216\n",
       "Norm     4990\n",
       ">7       3812\n",
       "Name: A1Cresult, dtype: int64"
      ]
     },
     "execution_count": 22,
     "metadata": {},
     "output_type": "execute_result"
    }
   ],
   "source": [
    "count(diabetes,'diabetes', 'A1Cresult')"
   ]
  },
  {
   "cell_type": "markdown",
   "id": "3f7a5488",
   "metadata": {},
   "source": [
    "<span style = 'color:blue'>Rename to **A1C_result** and **Norm** replaced with **Normal**, numerical values replaced with **Greater than 8** and **Greater than 7**</span>"
   ]
  },
  {
   "cell_type": "code",
   "execution_count": 23,
   "id": "c81c968e",
   "metadata": {},
   "outputs": [
    {
     "name": "stdout",
     "output_type": "stream",
     "text": [
      "Here are the results from metformin column in diabetes dataset\n"
     ]
    },
    {
     "data": {
      "text/plain": [
       "No        81778\n",
       "Steady    18346\n",
       "Up         1067\n",
       "Down        575\n",
       "Name: metformin, dtype: int64"
      ]
     },
     "execution_count": 23,
     "metadata": {},
     "output_type": "execute_result"
    }
   ],
   "source": [
    "count(diabetes,'diabetes', 'metformin')"
   ]
  },
  {
   "cell_type": "code",
   "execution_count": 24,
   "id": "2e1e3854",
   "metadata": {},
   "outputs": [
    {
     "name": "stdout",
     "output_type": "stream",
     "text": [
      "Here are the results from insulin column in diabetes dataset\n"
     ]
    },
    {
     "data": {
      "text/plain": [
       "No        47383\n",
       "Steady    30849\n",
       "Down      12218\n",
       "Up        11316\n",
       "Name: insulin, dtype: int64"
      ]
     },
     "execution_count": 24,
     "metadata": {},
     "output_type": "execute_result"
    }
   ],
   "source": [
    "count(diabetes,'diabetes', 'insulin')"
   ]
  },
  {
   "cell_type": "code",
   "execution_count": 25,
   "id": "46ae27f6",
   "metadata": {},
   "outputs": [
    {
     "name": "stdout",
     "output_type": "stream",
     "text": [
      "Here are the results from change column in diabetes dataset\n"
     ]
    },
    {
     "data": {
      "text/plain": [
       "No    54755\n",
       "Ch    47011\n",
       "Name: change, dtype: int64"
      ]
     },
     "execution_count": 25,
     "metadata": {},
     "output_type": "execute_result"
    }
   ],
   "source": [
    "count(diabetes,'diabetes', 'change')"
   ]
  },
  {
   "cell_type": "markdown",
   "id": "678df93d",
   "metadata": {},
   "source": [
    "<span style = 'color:blue'>Having only two values here, **No** and **Ch**, the **Ch** will be replaced with **Yes**.</span>"
   ]
  },
  {
   "cell_type": "code",
   "execution_count": 26,
   "id": "81c1762b",
   "metadata": {},
   "outputs": [
    {
     "name": "stdout",
     "output_type": "stream",
     "text": [
      "Here are the results from readmitted column in diabetes dataset\n"
     ]
    },
    {
     "data": {
      "text/plain": [
       "NO     54864\n",
       ">30    35545\n",
       "<30    11357\n",
       "Name: readmitted, dtype: int64"
      ]
     },
     "execution_count": 26,
     "metadata": {},
     "output_type": "execute_result"
    }
   ],
   "source": [
    "count(diabetes,'diabetes', 'readmitted')"
   ]
  },
  {
   "cell_type": "markdown",
   "id": "36ec90c1",
   "metadata": {},
   "source": [
    "<span style = 'color:blue'> **NO** will be changed to **No**, **>30** to **Over 30 days** and **<30** to **Below 30 days**</span>"
   ]
  },
  {
   "cell_type": "code",
   "execution_count": 27,
   "id": "490fd2ef",
   "metadata": {},
   "outputs": [
    {
     "name": "stdout",
     "output_type": "stream",
     "text": [
      "Here are the results from age column in diabetes dataset\n"
     ]
    },
    {
     "data": {
      "text/plain": [
       "[70-80)     26068\n",
       "[60-70)     22483\n",
       "[50-60)     17256\n",
       "[80-90)     17197\n",
       "[40-50)      9685\n",
       "[30-40)      3775\n",
       "[90-100)     2793\n",
       "[20-30)      1657\n",
       "[10-20)       691\n",
       "[0-10)        161\n",
       "Name: age, dtype: int64"
      ]
     },
     "execution_count": 27,
     "metadata": {},
     "output_type": "execute_result"
    }
   ],
   "source": [
    "count(diabetes, 'diabetes', 'age')"
   ]
  },
  {
   "cell_type": "markdown",
   "id": "4473b84e",
   "metadata": {},
   "source": [
    "<span style = 'color:blue'>The formating of this column is not accurate. The square bracket and braces will be removed.</span>"
   ]
  },
  {
   "cell_type": "code",
   "execution_count": 28,
   "id": "3adb0a45",
   "metadata": {},
   "outputs": [
    {
     "data": {
      "text/plain": [
       "['id',\n",
       " 'encounter_id',\n",
       " 'patient_nbr',\n",
       " 'race',\n",
       " 'gender',\n",
       " 'age',\n",
       " 'weight',\n",
       " 'admission_type_id',\n",
       " 'discharge_disposition_id',\n",
       " 'admission_source_id',\n",
       " 'time_in_hospital',\n",
       " 'payer_code',\n",
       " 'medical_specialty',\n",
       " 'num_lab_procedures',\n",
       " 'num_procedures',\n",
       " 'num_medications',\n",
       " 'number_outpatient',\n",
       " 'number_emergency',\n",
       " 'number_inpatient',\n",
       " 'diag_1',\n",
       " 'diag_2',\n",
       " 'diag_3',\n",
       " 'number_diagnoses',\n",
       " 'max_glu_serum',\n",
       " 'A1Cresult',\n",
       " 'metformin',\n",
       " 'repaglinide',\n",
       " 'nateglinide',\n",
       " 'chlorpropamide',\n",
       " 'glimepiride',\n",
       " 'acetohexamide',\n",
       " 'glipizide',\n",
       " 'glyburide',\n",
       " 'tolbutamide',\n",
       " 'pioglitazone',\n",
       " 'rosiglitazone',\n",
       " 'acarbose',\n",
       " 'miglitol',\n",
       " 'troglitazone',\n",
       " 'tolazamide',\n",
       " 'examide',\n",
       " 'citoglipton',\n",
       " 'insulin',\n",
       " 'glyburide.metformin',\n",
       " 'glipizide.metformin',\n",
       " 'glimepiride.pioglitazone',\n",
       " 'metformin.rosiglitazone',\n",
       " 'metformin.pioglitazone',\n",
       " 'change',\n",
       " 'diabetesMed',\n",
       " 'readmitted']"
      ]
     },
     "execution_count": 28,
     "metadata": {},
     "output_type": "execute_result"
    }
   ],
   "source": [
    "list(diabetes.columns)"
   ]
  },
  {
   "cell_type": "markdown",
   "id": "35da7090",
   "metadata": {},
   "source": [
    "#### <span style = 'color:blue'>Issues</span>\n",
    "1. Drop columns: **id, encounter_id, payer_code, weight, discharge_disposition_id, num_procedures, diag_1, diag_2, diag_3,repaglinide,nateglinide,chlorpropamide,glimepiride,acetohexamide,glipizide,glyburide,tolbutamide,pioglitazone,\n",
    "rosiglitazon,acetohexamide,acarbose,miglitol,troglitazone,tolazamide,examide,citoglipton,glyburide.metformin,\n",
    "glipizide.metformin,glimepiride.pioglitazone,metformin.rosiglitazone,metformin.pioglitazone**.\n",
    "2. Rename **patient_nbr** to **patient_id**, **time_in_hospital** to **days_in_hospital**, **number_outpatient, number_emergency, number_inpatient** to **outpatient, emergency, inpatient**, **max_glucose_serum** to **glucose_serum**, **A1Cresult** to **A1C_result**, **admission_source_id** to **admission_source**, **admission_type_id** to **admission_type**, **number_diagnoses** to **diagnosis**, **diabetesMed** to **medications**, **num_lab_procedures** to **lab_procedures**, **num_medications** to **num_of_medications**.\n",
    "3. Non-consistent patient_nbr. Add **0** in front of numbers less than 9.\n",
    "4. Replace **(?)**, and **AfricanAmerican** in race with **other** and **African_American**, **?** in medical_specialty with **other**.\n",
    "5. Replace numerical values in **admission_type_id** with mappings: 1:Emergency, 2:Urgent, 3:Elective, 4:New_born, 5:Not_available, 6:Null, 7:Trauma_center, 8:Not_mapped.\n",
    "6. Change numerical values in **admission_source_id** to mappings.\n",
    "7. Replace **ch** in **change** with **Yes**, **Norm** with **Normal** in the whole dataset, **NO** in readmitted to **No**\n",
    "8. Replace **>8** and **>7** in **A1C_result** with **Greater than 8** and **Greater than 7** respectively, replace **>200** and **>300** in glucose_serum with **Greater than 200** and **Greater than 300** respectively, and **None** with **No test**\n",
    "9. Remove braces from **age** column, and modify range."
   ]
  },
  {
   "cell_type": "markdown",
   "id": "a79f211f",
   "metadata": {},
   "source": [
    "# <span style = 'color:blue'> Cleaning</span>"
   ]
  },
  {
   "cell_type": "markdown",
   "id": "d3ccc2c4",
   "metadata": {},
   "source": [
    "<span style = 'color:blue'>Issue 1</span>"
   ]
  },
  {
   "cell_type": "code",
   "execution_count": 29,
   "id": "c5b33113",
   "metadata": {},
   "outputs": [],
   "source": [
    "drop_columns = ['id','encounter_id','weight','discharge_disposition_id','payer_code','diag_1','diag_2','diag_3',\n",
    "                'num_procedures','repaglinide','nateglinide','chlorpropamide','glimepiride','acetohexamide','glipizide',\n",
    "                'glyburide','tolbutamide','pioglitazone','rosiglitazone','acarbose','miglitol','troglitazone','tolazamide',\n",
    "                'examide','citoglipton','glyburide.metformin','glipizide.metformin','glimepiride.pioglitazone',\n",
    "                'metformin.rosiglitazone','metformin.pioglitazone',]\n",
    "diabetes.drop(columns = drop_columns, inplace = True)"
   ]
  },
  {
   "cell_type": "code",
   "execution_count": 30,
   "id": "86d1d854",
   "metadata": {},
   "outputs": [
    {
     "data": {
      "text/plain": [
       "Index(['patient_nbr', 'race', 'gender', 'age', 'admission_type_id',\n",
       "       'admission_source_id', 'time_in_hospital', 'medical_specialty',\n",
       "       'num_lab_procedures', 'num_medications', 'number_outpatient',\n",
       "       'number_emergency', 'number_inpatient', 'number_diagnoses',\n",
       "       'max_glu_serum', 'A1Cresult', 'metformin', 'insulin', 'change',\n",
       "       'diabetesMed', 'readmitted'],\n",
       "      dtype='object')"
      ]
     },
     "execution_count": 30,
     "metadata": {},
     "output_type": "execute_result"
    }
   ],
   "source": [
    "diabetes.columns"
   ]
  },
  {
   "cell_type": "markdown",
   "id": "25b2ce34",
   "metadata": {},
   "source": [
    "<span style = 'color:blue'>Issue 2</span>"
   ]
  },
  {
   "cell_type": "code",
   "execution_count": 31,
   "id": "f06cec06",
   "metadata": {},
   "outputs": [],
   "source": [
    "diabetes.rename(columns = {'patient_nbr':'patient_id','time_in_hospital':'days_in_hospital',\n",
    "                           'number_outpatient':'outpatient','number_emergency':'emergency',\n",
    "                           'number_inpatient':'inpatient','max_glu_serum':'glucose_serum','A1Cresult':'A1C_result',\n",
    "                           'admission_source_id':'admission_source','admission_type_id':'admission_type',\n",
    "                           'number_diagnoses':'diagnosis','diabetesMed':'medications',\n",
    "                           'num_lab_procedures':'lab_procedures','num_medications':'num_of_medications'}, inplace = True)"
   ]
  },
  {
   "cell_type": "code",
   "execution_count": 32,
   "id": "6defe561",
   "metadata": {},
   "outputs": [
    {
     "data": {
      "text/plain": [
       "Index(['patient_id', 'race', 'gender', 'age', 'admission_type',\n",
       "       'admission_source', 'days_in_hospital', 'medical_specialty',\n",
       "       'lab_procedures', 'num_of_medications', 'outpatient', 'emergency',\n",
       "       'inpatient', 'diagnosis', 'glucose_serum', 'A1C_result', 'metformin',\n",
       "       'insulin', 'change', 'medications', 'readmitted'],\n",
       "      dtype='object')"
      ]
     },
     "execution_count": 32,
     "metadata": {},
     "output_type": "execute_result"
    }
   ],
   "source": [
    "diabetes.columns"
   ]
  },
  {
   "cell_type": "markdown",
   "id": "8fa896c3",
   "metadata": {},
   "source": [
    "<span style = 'color:blue'>Issue 3</span>"
   ]
  },
  {
   "cell_type": "code",
   "execution_count": 33,
   "id": "8ac58376",
   "metadata": {},
   "outputs": [],
   "source": [
    "diabetes['patient_id'] = diabetes['patient_id'].astype(str)\n",
    "diabetes['patient_id'] = [((9 - len(i)) * str(0)) + i for i in diabetes.patient_id]"
   ]
  },
  {
   "cell_type": "code",
   "execution_count": 34,
   "id": "ff01d247",
   "metadata": {},
   "outputs": [
    {
     "name": "stdout",
     "output_type": "stream",
     "text": [
      "All good!!!\n"
     ]
    }
   ],
   "source": [
    "for i in diabetes.patient_id:\n",
    "    if len(i) != len(diabetes.patient_id.max()):\n",
    "        print('Error!!! Inconsistent length found!!!')\n",
    "        break\n",
    "    else:\n",
    "        print('All good!!!')\n",
    "        break"
   ]
  },
  {
   "cell_type": "code",
   "execution_count": 35,
   "id": "bef5fa5c",
   "metadata": {},
   "outputs": [
    {
     "data": {
      "text/html": [
       "<div>\n",
       "<style scoped>\n",
       "    .dataframe tbody tr th:only-of-type {\n",
       "        vertical-align: middle;\n",
       "    }\n",
       "\n",
       "    .dataframe tbody tr th {\n",
       "        vertical-align: top;\n",
       "    }\n",
       "\n",
       "    .dataframe thead th {\n",
       "        text-align: right;\n",
       "    }\n",
       "</style>\n",
       "<table border=\"1\" class=\"dataframe\">\n",
       "  <thead>\n",
       "    <tr style=\"text-align: right;\">\n",
       "      <th></th>\n",
       "      <th>patient_id</th>\n",
       "      <th>race</th>\n",
       "      <th>gender</th>\n",
       "      <th>age</th>\n",
       "      <th>admission_type</th>\n",
       "      <th>admission_source</th>\n",
       "      <th>days_in_hospital</th>\n",
       "      <th>medical_specialty</th>\n",
       "      <th>lab_procedures</th>\n",
       "      <th>num_of_medications</th>\n",
       "      <th>...</th>\n",
       "      <th>emergency</th>\n",
       "      <th>inpatient</th>\n",
       "      <th>diagnosis</th>\n",
       "      <th>glucose_serum</th>\n",
       "      <th>A1C_result</th>\n",
       "      <th>metformin</th>\n",
       "      <th>insulin</th>\n",
       "      <th>change</th>\n",
       "      <th>medications</th>\n",
       "      <th>readmitted</th>\n",
       "    </tr>\n",
       "  </thead>\n",
       "  <tbody>\n",
       "    <tr>\n",
       "      <th>0</th>\n",
       "      <td>008222157</td>\n",
       "      <td>Caucasian</td>\n",
       "      <td>Female</td>\n",
       "      <td>[0-10)</td>\n",
       "      <td>6</td>\n",
       "      <td>1</td>\n",
       "      <td>1</td>\n",
       "      <td>Pediatrics-Endocrinology</td>\n",
       "      <td>41</td>\n",
       "      <td>1</td>\n",
       "      <td>...</td>\n",
       "      <td>0</td>\n",
       "      <td>0</td>\n",
       "      <td>1</td>\n",
       "      <td>None</td>\n",
       "      <td>None</td>\n",
       "      <td>No</td>\n",
       "      <td>No</td>\n",
       "      <td>No</td>\n",
       "      <td>No</td>\n",
       "      <td>NO</td>\n",
       "    </tr>\n",
       "    <tr>\n",
       "      <th>1</th>\n",
       "      <td>055629189</td>\n",
       "      <td>Caucasian</td>\n",
       "      <td>Female</td>\n",
       "      <td>[10-20)</td>\n",
       "      <td>1</td>\n",
       "      <td>7</td>\n",
       "      <td>3</td>\n",
       "      <td>?</td>\n",
       "      <td>59</td>\n",
       "      <td>18</td>\n",
       "      <td>...</td>\n",
       "      <td>0</td>\n",
       "      <td>0</td>\n",
       "      <td>9</td>\n",
       "      <td>None</td>\n",
       "      <td>None</td>\n",
       "      <td>No</td>\n",
       "      <td>Up</td>\n",
       "      <td>Ch</td>\n",
       "      <td>Yes</td>\n",
       "      <td>&gt;30</td>\n",
       "    </tr>\n",
       "    <tr>\n",
       "      <th>2</th>\n",
       "      <td>086047875</td>\n",
       "      <td>AfricanAmerican</td>\n",
       "      <td>Female</td>\n",
       "      <td>[20-30)</td>\n",
       "      <td>1</td>\n",
       "      <td>7</td>\n",
       "      <td>2</td>\n",
       "      <td>?</td>\n",
       "      <td>11</td>\n",
       "      <td>13</td>\n",
       "      <td>...</td>\n",
       "      <td>0</td>\n",
       "      <td>1</td>\n",
       "      <td>6</td>\n",
       "      <td>None</td>\n",
       "      <td>None</td>\n",
       "      <td>No</td>\n",
       "      <td>No</td>\n",
       "      <td>No</td>\n",
       "      <td>Yes</td>\n",
       "      <td>NO</td>\n",
       "    </tr>\n",
       "    <tr>\n",
       "      <th>3</th>\n",
       "      <td>082442376</td>\n",
       "      <td>Caucasian</td>\n",
       "      <td>Male</td>\n",
       "      <td>[30-40)</td>\n",
       "      <td>1</td>\n",
       "      <td>7</td>\n",
       "      <td>2</td>\n",
       "      <td>?</td>\n",
       "      <td>44</td>\n",
       "      <td>16</td>\n",
       "      <td>...</td>\n",
       "      <td>0</td>\n",
       "      <td>0</td>\n",
       "      <td>7</td>\n",
       "      <td>None</td>\n",
       "      <td>None</td>\n",
       "      <td>No</td>\n",
       "      <td>Up</td>\n",
       "      <td>Ch</td>\n",
       "      <td>Yes</td>\n",
       "      <td>NO</td>\n",
       "    </tr>\n",
       "    <tr>\n",
       "      <th>4</th>\n",
       "      <td>042519267</td>\n",
       "      <td>Caucasian</td>\n",
       "      <td>Male</td>\n",
       "      <td>[40-50)</td>\n",
       "      <td>1</td>\n",
       "      <td>7</td>\n",
       "      <td>1</td>\n",
       "      <td>?</td>\n",
       "      <td>51</td>\n",
       "      <td>8</td>\n",
       "      <td>...</td>\n",
       "      <td>0</td>\n",
       "      <td>0</td>\n",
       "      <td>5</td>\n",
       "      <td>None</td>\n",
       "      <td>None</td>\n",
       "      <td>No</td>\n",
       "      <td>Steady</td>\n",
       "      <td>Ch</td>\n",
       "      <td>Yes</td>\n",
       "      <td>NO</td>\n",
       "    </tr>\n",
       "  </tbody>\n",
       "</table>\n",
       "<p>5 rows × 21 columns</p>\n",
       "</div>"
      ],
      "text/plain": [
       "  patient_id             race  gender      age  admission_type  \\\n",
       "0  008222157        Caucasian  Female   [0-10)               6   \n",
       "1  055629189        Caucasian  Female  [10-20)               1   \n",
       "2  086047875  AfricanAmerican  Female  [20-30)               1   \n",
       "3  082442376        Caucasian    Male  [30-40)               1   \n",
       "4  042519267        Caucasian    Male  [40-50)               1   \n",
       "\n",
       "   admission_source  days_in_hospital         medical_specialty  \\\n",
       "0                 1                 1  Pediatrics-Endocrinology   \n",
       "1                 7                 3                         ?   \n",
       "2                 7                 2                         ?   \n",
       "3                 7                 2                         ?   \n",
       "4                 7                 1                         ?   \n",
       "\n",
       "   lab_procedures  num_of_medications  ...  emergency  inpatient  diagnosis  \\\n",
       "0              41                   1  ...          0          0          1   \n",
       "1              59                  18  ...          0          0          9   \n",
       "2              11                  13  ...          0          1          6   \n",
       "3              44                  16  ...          0          0          7   \n",
       "4              51                   8  ...          0          0          5   \n",
       "\n",
       "   glucose_serum A1C_result metformin insulin change medications readmitted  \n",
       "0           None       None        No      No     No          No         NO  \n",
       "1           None       None        No      Up     Ch         Yes        >30  \n",
       "2           None       None        No      No     No         Yes         NO  \n",
       "3           None       None        No      Up     Ch         Yes         NO  \n",
       "4           None       None        No  Steady     Ch         Yes         NO  \n",
       "\n",
       "[5 rows x 21 columns]"
      ]
     },
     "execution_count": 35,
     "metadata": {},
     "output_type": "execute_result"
    }
   ],
   "source": [
    "diabetes.head()"
   ]
  },
  {
   "cell_type": "markdown",
   "id": "c3423452",
   "metadata": {},
   "source": [
    "<span style = 'color:blue'>Issue 4</span>"
   ]
  },
  {
   "cell_type": "code",
   "execution_count": 36,
   "id": "cdc27ff0",
   "metadata": {},
   "outputs": [],
   "source": [
    "diabetes['race'].replace({'?':'Others', 'Other':'Others', 'AfricanAmerican':'African_American'}, inplace = True)\n",
    "diabetes['medical_specialty'] = diabetes['medical_specialty'].replace('?', 'Others')"
   ]
  },
  {
   "cell_type": "code",
   "execution_count": 37,
   "id": "8e9e751f",
   "metadata": {},
   "outputs": [
    {
     "name": "stdout",
     "output_type": "stream",
     "text": [
      "Here are the results from race column in diabetes dataset\n"
     ]
    },
    {
     "data": {
      "text/plain": [
       "Caucasian           76099\n",
       "African_American    19210\n",
       "Others               3779\n",
       "Hispanic             2037\n",
       "Asian                 641\n",
       "Name: race, dtype: int64"
      ]
     },
     "execution_count": 37,
     "metadata": {},
     "output_type": "execute_result"
    }
   ],
   "source": [
    "count(diabetes, 'diabetes', 'race')"
   ]
  },
  {
   "cell_type": "code",
   "execution_count": 38,
   "id": "1d795f4b",
   "metadata": {},
   "outputs": [
    {
     "name": "stdout",
     "output_type": "stream",
     "text": [
      "Here are the results from medical_specialty column in diabetes dataset\n"
     ]
    },
    {
     "data": {
      "text/plain": [
       "Others                           49949\n",
       "InternalMedicine                 14635\n",
       "Emergency/Trauma                  7565\n",
       "Family/GeneralPractice            7440\n",
       "Cardiology                        5352\n",
       "                                 ...  \n",
       "SportsMedicine                       1\n",
       "Speech                               1\n",
       "Perinatology                         1\n",
       "Neurophysiology                      1\n",
       "Pediatrics-InfectiousDiseases        1\n",
       "Name: medical_specialty, Length: 73, dtype: int64"
      ]
     },
     "execution_count": 38,
     "metadata": {},
     "output_type": "execute_result"
    }
   ],
   "source": [
    "count(diabetes, 'diabetes', 'medical_specialty')"
   ]
  },
  {
   "cell_type": "markdown",
   "id": "05827e78",
   "metadata": {},
   "source": [
    "<span style = 'color:blue'>Issue 5</span>"
   ]
  },
  {
   "cell_type": "code",
   "execution_count": 39,
   "id": "c387d905",
   "metadata": {},
   "outputs": [],
   "source": [
    "diabetes['admission_type'].replace({1:'Emergency', 2:'Urgent', 3:'Elective', 4:'New born', 5:'Not available', \n",
    "                                    6:'Not available',7:'Trauma center', 8:'Not available'}, inplace = True)"
   ]
  },
  {
   "cell_type": "code",
   "execution_count": 40,
   "id": "48ff49d6",
   "metadata": {},
   "outputs": [
    {
     "name": "stdout",
     "output_type": "stream",
     "text": [
      "Here are the results from admission_type column in diabetes dataset\n"
     ]
    },
    {
     "data": {
      "text/plain": [
       "Emergency        53990\n",
       "Elective         18869\n",
       "Urgent           18480\n",
       "Not available    10396\n",
       "Trauma center       21\n",
       "New born            10\n",
       "Name: admission_type, dtype: int64"
      ]
     },
     "execution_count": 40,
     "metadata": {},
     "output_type": "execute_result"
    }
   ],
   "source": [
    "count(diabetes, 'diabetes', 'admission_type')"
   ]
  },
  {
   "cell_type": "markdown",
   "id": "d1c27b5f",
   "metadata": {},
   "source": [
    "<span style = 'color:blue'>Issue 6</span>"
   ]
  },
  {
   "cell_type": "code",
   "execution_count": 41,
   "id": "225e325f",
   "metadata": {},
   "outputs": [],
   "source": [
    "diabetes['admission_source'].replace({1:'PR',2:'CR',3:'HMOR',4:'TH',5:'TSNF',6:'THCF',7:'ER',8:'C/LE',9:'NA',10:'TCAH',\n",
    "                                      11:'ND',12:'PD',13:'SB',14:'EB',17:'NA',18:'TAHHA',19:'RSHHA',20:'NA',21:'NA',\n",
    "                                      22:'TSHI',23:'BIH',24:'BOH',25:'TASC',26:'THs'}, inplace = True)"
   ]
  },
  {
   "cell_type": "markdown",
   "id": "065188cb",
   "metadata": {},
   "source": [
    "<span style = 'color:blue'>To shorten the words used here in, the following definitions were made:</span>\n",
    "1. **PR**: Physical Referral\n",
    "2. **CR**: Clinical Referral\n",
    "3. **HMOR**: HMO Referral\n",
    "4. **TH**: Transfer from Hospital\n",
    "5. **TSNF**: Transfer from a Skilled Nursing Facility\n",
    "6. **THCF**: Transfer from Health Care Facility\n",
    "7. **ER**: Emergency Room\n",
    "8. **C/LE**: Court/Law Enforcement\n",
    "9. **NA**: Not Available\n",
    "10. **TCAH**: Transfer from Critical Access Hospital\n",
    "11. **ND**: Normal Delivery\n",
    "12. **PD**: Premature Delivery\n",
    "13. **SB**: Sick Baby\n",
    "14. **EB**: Extramural Birth\n",
    "15. Already defined in number 9.\n",
    "16. No definition given.\n",
    "17. **Null** was replaced with **NA**\n",
    "18. **TAHHA**: Transfer From Another Home Health Agency\n",
    "19. **RSHHA**: Readmission to Same Home Health Agency\n",
    "20. **Not Mapped** replaced with **NA**\n",
    "21. **Unknown/Invalid** replaced with **NA**\n",
    "22. **TSHI**: Transfer from hospital inpt/same fac reslt in a sep claim\n",
    "23. **BIH**: Born inside this hospital\n",
    "24. **BOH**: Born outside this hospital\n",
    "25. **TASC**: Transfer from Ambulatory Surgery Center\n",
    "26. **THs**: Transfer from Hospice"
   ]
  },
  {
   "cell_type": "code",
   "execution_count": 42,
   "id": "6c4ac82d",
   "metadata": {},
   "outputs": [
    {
     "name": "stdout",
     "output_type": "stream",
     "text": [
      "Here are the results from admission_source column in diabetes dataset\n"
     ]
    },
    {
     "data": {
      "text/plain": [
       "ER      57494\n",
       "PR      29565\n",
       "NA       7067\n",
       "TH       3187\n",
       "THCF     2264\n",
       "CR       1104\n",
       "TSNF      855\n",
       "HMOR      187\n",
       "C/LE       16\n",
       "TSHI       12\n",
       "TCAH        8\n",
       "EB          2\n",
       "ND          2\n",
       "TASC        2\n",
       "SB          1\n",
       "Name: admission_source, dtype: int64"
      ]
     },
     "execution_count": 42,
     "metadata": {},
     "output_type": "execute_result"
    }
   ],
   "source": [
    "count(diabetes, 'diabetes', 'admission_source')"
   ]
  },
  {
   "cell_type": "markdown",
   "id": "316c5547",
   "metadata": {},
   "source": [
    "<span style = 'color:blue'>Issue 7</span>"
   ]
  },
  {
   "cell_type": "code",
   "execution_count": 43,
   "id": "a51a7536",
   "metadata": {},
   "outputs": [],
   "source": [
    "diabetes['change'] = diabetes['change'].replace('Ch', 'Yes')\n",
    "diabetes['readmitted'].replace({'NO':'No', '>30':'Over 30 days', '<30':'Below 30 days'}, inplace = True)\n",
    "diabetes = diabetes.replace('Norm', 'Normal')"
   ]
  },
  {
   "cell_type": "code",
   "execution_count": 44,
   "id": "ac71072a",
   "metadata": {},
   "outputs": [
    {
     "name": "stdout",
     "output_type": "stream",
     "text": [
      "Here are the results from change column in diabetes dataset\n"
     ]
    },
    {
     "data": {
      "text/plain": [
       "No     54755\n",
       "Yes    47011\n",
       "Name: change, dtype: int64"
      ]
     },
     "execution_count": 44,
     "metadata": {},
     "output_type": "execute_result"
    }
   ],
   "source": [
    "count(diabetes, 'diabetes', 'change')"
   ]
  },
  {
   "cell_type": "code",
   "execution_count": 45,
   "id": "b431759b",
   "metadata": {},
   "outputs": [
    {
     "name": "stdout",
     "output_type": "stream",
     "text": [
      "Here are the results from readmitted column in diabetes dataset\n"
     ]
    },
    {
     "data": {
      "text/plain": [
       "No               54864\n",
       "Over 30 days     35545\n",
       "Below 30 days    11357\n",
       "Name: readmitted, dtype: int64"
      ]
     },
     "execution_count": 45,
     "metadata": {},
     "output_type": "execute_result"
    }
   ],
   "source": [
    "count(diabetes, 'diabetes', 'readmitted')"
   ]
  },
  {
   "cell_type": "code",
   "execution_count": 46,
   "id": "b00aa4b4",
   "metadata": {},
   "outputs": [
    {
     "name": "stdout",
     "output_type": "stream",
     "text": [
      "All good!!!\n"
     ]
    }
   ],
   "source": [
    "for cell_value in diabetes:\n",
    "    if cell_value == 'Norm':\n",
    "        print('Error detected!!!')\n",
    "        break\n",
    "    else:\n",
    "        print('All good!!!')\n",
    "        break"
   ]
  },
  {
   "cell_type": "markdown",
   "id": "a55d942f",
   "metadata": {},
   "source": [
    "<span style = 'color:blue'>Issue 8</span>"
   ]
  },
  {
   "cell_type": "code",
   "execution_count": 47,
   "id": "de7617ed",
   "metadata": {},
   "outputs": [],
   "source": [
    "diabetes['A1C_result'].replace({'>8':'Greater than 8', '>7':'Greater than 7', 'None':'No test'}, inplace = True)\n",
    "diabetes['glucose_serum'].replace({'>200':'Greater than 200', '>300':'Greater than 300', 'None':'No test'}, inplace = True)"
   ]
  },
  {
   "cell_type": "code",
   "execution_count": 48,
   "id": "7630a416",
   "metadata": {},
   "outputs": [
    {
     "name": "stdout",
     "output_type": "stream",
     "text": [
      "Here are the results from A1C_result column in diabetes dataset\n"
     ]
    },
    {
     "data": {
      "text/plain": [
       "No test           84748\n",
       "Greater than 8     8216\n",
       "Normal             4990\n",
       "Greater than 7     3812\n",
       "Name: A1C_result, dtype: int64"
      ]
     },
     "execution_count": 48,
     "metadata": {},
     "output_type": "execute_result"
    }
   ],
   "source": [
    "count(diabetes, 'diabetes', 'A1C_result')"
   ]
  },
  {
   "cell_type": "code",
   "execution_count": 49,
   "id": "f5122817",
   "metadata": {},
   "outputs": [
    {
     "name": "stdout",
     "output_type": "stream",
     "text": [
      "Here are the results from glucose_serum column in diabetes dataset\n"
     ]
    },
    {
     "data": {
      "text/plain": [
       "No test             96420\n",
       "Normal               2597\n",
       "Greater than 200     1485\n",
       "Greater than 300     1264\n",
       "Name: glucose_serum, dtype: int64"
      ]
     },
     "execution_count": 49,
     "metadata": {},
     "output_type": "execute_result"
    }
   ],
   "source": [
    "count(diabetes, 'diabetes', 'glucose_serum')"
   ]
  },
  {
   "cell_type": "markdown",
   "id": "4495d88e",
   "metadata": {},
   "source": [
    "<span style = 'color:blue'>Issue 9</span>"
   ]
  },
  {
   "cell_type": "code",
   "execution_count": 50,
   "id": "7c0fdefe",
   "metadata": {},
   "outputs": [],
   "source": [
    "diabetes[['one','two']] = diabetes.age.str.split('[', expand = True)\n",
    "diabetes[['age','three']] = diabetes.two.str.split(')', expand = True)\n",
    "diabetes.drop(columns = {'one', 'two', 'three'}, inplace = True)\n",
    "diabetes['age'].replace({'0-10':'00-09', '10-20':'10-19', '20-30':'20-29','30-40':'30-39', '40-50':'40-49', '50-60':'50-59',\n",
    "                        '60-70':'60-69', '70-80':'70-79', '80-90':'80-89'}, inplace = True)"
   ]
  },
  {
   "cell_type": "code",
   "execution_count": 51,
   "id": "1d3c8a6a",
   "metadata": {},
   "outputs": [
    {
     "name": "stdout",
     "output_type": "stream",
     "text": [
      "Here are the results from age column in diabetes dataset\n"
     ]
    },
    {
     "data": {
      "text/plain": [
       "70-79     26068\n",
       "60-69     22483\n",
       "50-59     17256\n",
       "80-89     17197\n",
       "40-49      9685\n",
       "30-39      3775\n",
       "90-100     2793\n",
       "20-29      1657\n",
       "10-19       691\n",
       "00-09       161\n",
       "Name: age, dtype: int64"
      ]
     },
     "execution_count": 51,
     "metadata": {},
     "output_type": "execute_result"
    }
   ],
   "source": [
    "count(diabetes, 'diabetes', 'age')"
   ]
  },
  {
   "cell_type": "markdown",
   "id": "dcbd0192",
   "metadata": {},
   "source": [
    "#### <span style = 'color:blue'> Having gathered the features needed for analysis (this can vary depending on the analyst and the question or relationship one wants to establish or verify), let's take a look at the datatypes for visualization suitability.</span>"
   ]
  },
  {
   "cell_type": "code",
   "execution_count": 52,
   "id": "2bea3483",
   "metadata": {},
   "outputs": [
    {
     "name": "stdout",
     "output_type": "stream",
     "text": [
      "<class 'pandas.core.frame.DataFrame'>\n",
      "RangeIndex: 101766 entries, 0 to 101765\n",
      "Data columns (total 21 columns):\n",
      " #   Column              Non-Null Count   Dtype \n",
      "---  ------              --------------   ----- \n",
      " 0   patient_id          101766 non-null  object\n",
      " 1   race                101766 non-null  object\n",
      " 2   gender              101766 non-null  object\n",
      " 3   age                 101766 non-null  object\n",
      " 4   admission_type      101766 non-null  object\n",
      " 5   admission_source    101766 non-null  object\n",
      " 6   days_in_hospital    101766 non-null  int64 \n",
      " 7   medical_specialty   101766 non-null  object\n",
      " 8   lab_procedures      101766 non-null  int64 \n",
      " 9   num_of_medications  101766 non-null  int64 \n",
      " 10  outpatient          101766 non-null  int64 \n",
      " 11  emergency           101766 non-null  int64 \n",
      " 12  inpatient           101766 non-null  int64 \n",
      " 13  diagnosis           101766 non-null  int64 \n",
      " 14  glucose_serum       101766 non-null  object\n",
      " 15  A1C_result          101766 non-null  object\n",
      " 16  metformin           101766 non-null  object\n",
      " 17  insulin             101766 non-null  object\n",
      " 18  change              101766 non-null  object\n",
      " 19  medications         101766 non-null  object\n",
      " 20  readmitted          101766 non-null  object\n",
      "dtypes: int64(7), object(14)\n",
      "memory usage: 16.3+ MB\n"
     ]
    }
   ],
   "source": [
    "diabetes.info()"
   ]
  },
  {
   "cell_type": "markdown",
   "id": "ad8a71ce",
   "metadata": {},
   "source": [
    "<span style = 'color:blue'> The following features will have their datatype converted as follows for proper visualization:</span>\n",
    "1. race, gender, age, admission_type, change, medications admission_source, medical_specialty, glucose_serum, A1c_result, metformin, insulin, readmitted will be converted to categorical data type."
   ]
  },
  {
   "cell_type": "markdown",
   "id": "0ef33a75",
   "metadata": {},
   "source": [
    "<span style = 'color:blue'>To solve these issues since they all involve data type conversion, a function will be created to avoid code repetition.</span>"
   ]
  },
  {
   "cell_type": "code",
   "execution_count": 53,
   "id": "3bda8967",
   "metadata": {},
   "outputs": [],
   "source": [
    "def ChangeDtype(df, column_name, data_type):\n",
    "    \"\"\"\n",
    "    A function that converts the data type of a column in a dataframe from it's original type to the stated type.\n",
    "    \n",
    "    ARGS:\n",
    "        df: Dataframe\n",
    "        column_name: Column to be converted. Input as a string enclosed in double or single quotes.\n",
    "        data_type: New data type as a string enclosed in quotes.\n",
    "    \"\"\"\n",
    "    try:\n",
    "        df[column_name] = df[column_name].astype(data_type)\n",
    "        #print('Operation Successful !!!')\n",
    "        #print('New data type is {}\\n'.format(df[column_name].dtypes))\n",
    "    except:\n",
    "        print('Operation Failed !!! Check parameters and try again.')\n",
    "    "
   ]
  },
  {
   "cell_type": "markdown",
   "id": "0bfb1246",
   "metadata": {},
   "source": [
    "<span style = 'color:blue'> Issue 1</span>"
   ]
  },
  {
   "cell_type": "code",
   "execution_count": 54,
   "id": "79c70fb0",
   "metadata": {},
   "outputs": [],
   "source": [
    "ChangeDtype(diabetes, 'race', 'category')\n",
    "ChangeDtype(diabetes, 'gender', 'category')\n",
    "ChangeDtype(diabetes, 'age', 'category')\n",
    "ChangeDtype(diabetes, 'admission_type', 'category')\n",
    "ChangeDtype(diabetes, 'admission_source', 'category')\n",
    "ChangeDtype(diabetes, 'medical_specialty', 'category')\n",
    "ChangeDtype(diabetes, 'glucose_serum', 'category')\n",
    "ChangeDtype(diabetes, 'A1C_result', 'category')\n",
    "ChangeDtype(diabetes, 'metformin', 'category')\n",
    "ChangeDtype(diabetes, 'insulin', 'category')\n",
    "ChangeDtype(diabetes, 'readmitted', 'category')\n",
    "ChangeDtype(diabetes, 'change', 'category')\n",
    "ChangeDtype(diabetes, 'medications', 'category')"
   ]
  },
  {
   "cell_type": "markdown",
   "id": "d4449040",
   "metadata": {},
   "source": [
    "#### <span style = 'color:blue'> Final Verifications</span>"
   ]
  },
  {
   "cell_type": "code",
   "execution_count": 55,
   "id": "efbd5d2c",
   "metadata": {},
   "outputs": [
    {
     "data": {
      "text/html": [
       "<div>\n",
       "<style scoped>\n",
       "    .dataframe tbody tr th:only-of-type {\n",
       "        vertical-align: middle;\n",
       "    }\n",
       "\n",
       "    .dataframe tbody tr th {\n",
       "        vertical-align: top;\n",
       "    }\n",
       "\n",
       "    .dataframe thead th {\n",
       "        text-align: right;\n",
       "    }\n",
       "</style>\n",
       "<table border=\"1\" class=\"dataframe\">\n",
       "  <thead>\n",
       "    <tr style=\"text-align: right;\">\n",
       "      <th></th>\n",
       "      <th>patient_id</th>\n",
       "      <th>race</th>\n",
       "      <th>gender</th>\n",
       "      <th>age</th>\n",
       "      <th>admission_type</th>\n",
       "      <th>admission_source</th>\n",
       "      <th>days_in_hospital</th>\n",
       "      <th>medical_specialty</th>\n",
       "      <th>lab_procedures</th>\n",
       "      <th>num_of_medications</th>\n",
       "      <th>...</th>\n",
       "      <th>emergency</th>\n",
       "      <th>inpatient</th>\n",
       "      <th>diagnosis</th>\n",
       "      <th>glucose_serum</th>\n",
       "      <th>A1C_result</th>\n",
       "      <th>metformin</th>\n",
       "      <th>insulin</th>\n",
       "      <th>change</th>\n",
       "      <th>medications</th>\n",
       "      <th>readmitted</th>\n",
       "    </tr>\n",
       "  </thead>\n",
       "  <tbody>\n",
       "    <tr>\n",
       "      <th>0</th>\n",
       "      <td>008222157</td>\n",
       "      <td>Caucasian</td>\n",
       "      <td>Female</td>\n",
       "      <td>00-09</td>\n",
       "      <td>Not available</td>\n",
       "      <td>PR</td>\n",
       "      <td>1</td>\n",
       "      <td>Pediatrics-Endocrinology</td>\n",
       "      <td>41</td>\n",
       "      <td>1</td>\n",
       "      <td>...</td>\n",
       "      <td>0</td>\n",
       "      <td>0</td>\n",
       "      <td>1</td>\n",
       "      <td>No test</td>\n",
       "      <td>No test</td>\n",
       "      <td>No</td>\n",
       "      <td>No</td>\n",
       "      <td>No</td>\n",
       "      <td>No</td>\n",
       "      <td>No</td>\n",
       "    </tr>\n",
       "    <tr>\n",
       "      <th>1</th>\n",
       "      <td>055629189</td>\n",
       "      <td>Caucasian</td>\n",
       "      <td>Female</td>\n",
       "      <td>10-19</td>\n",
       "      <td>Emergency</td>\n",
       "      <td>ER</td>\n",
       "      <td>3</td>\n",
       "      <td>Others</td>\n",
       "      <td>59</td>\n",
       "      <td>18</td>\n",
       "      <td>...</td>\n",
       "      <td>0</td>\n",
       "      <td>0</td>\n",
       "      <td>9</td>\n",
       "      <td>No test</td>\n",
       "      <td>No test</td>\n",
       "      <td>No</td>\n",
       "      <td>Up</td>\n",
       "      <td>Yes</td>\n",
       "      <td>Yes</td>\n",
       "      <td>Over 30 days</td>\n",
       "    </tr>\n",
       "    <tr>\n",
       "      <th>2</th>\n",
       "      <td>086047875</td>\n",
       "      <td>African_American</td>\n",
       "      <td>Female</td>\n",
       "      <td>20-29</td>\n",
       "      <td>Emergency</td>\n",
       "      <td>ER</td>\n",
       "      <td>2</td>\n",
       "      <td>Others</td>\n",
       "      <td>11</td>\n",
       "      <td>13</td>\n",
       "      <td>...</td>\n",
       "      <td>0</td>\n",
       "      <td>1</td>\n",
       "      <td>6</td>\n",
       "      <td>No test</td>\n",
       "      <td>No test</td>\n",
       "      <td>No</td>\n",
       "      <td>No</td>\n",
       "      <td>No</td>\n",
       "      <td>Yes</td>\n",
       "      <td>No</td>\n",
       "    </tr>\n",
       "    <tr>\n",
       "      <th>3</th>\n",
       "      <td>082442376</td>\n",
       "      <td>Caucasian</td>\n",
       "      <td>Male</td>\n",
       "      <td>30-39</td>\n",
       "      <td>Emergency</td>\n",
       "      <td>ER</td>\n",
       "      <td>2</td>\n",
       "      <td>Others</td>\n",
       "      <td>44</td>\n",
       "      <td>16</td>\n",
       "      <td>...</td>\n",
       "      <td>0</td>\n",
       "      <td>0</td>\n",
       "      <td>7</td>\n",
       "      <td>No test</td>\n",
       "      <td>No test</td>\n",
       "      <td>No</td>\n",
       "      <td>Up</td>\n",
       "      <td>Yes</td>\n",
       "      <td>Yes</td>\n",
       "      <td>No</td>\n",
       "    </tr>\n",
       "    <tr>\n",
       "      <th>4</th>\n",
       "      <td>042519267</td>\n",
       "      <td>Caucasian</td>\n",
       "      <td>Male</td>\n",
       "      <td>40-49</td>\n",
       "      <td>Emergency</td>\n",
       "      <td>ER</td>\n",
       "      <td>1</td>\n",
       "      <td>Others</td>\n",
       "      <td>51</td>\n",
       "      <td>8</td>\n",
       "      <td>...</td>\n",
       "      <td>0</td>\n",
       "      <td>0</td>\n",
       "      <td>5</td>\n",
       "      <td>No test</td>\n",
       "      <td>No test</td>\n",
       "      <td>No</td>\n",
       "      <td>Steady</td>\n",
       "      <td>Yes</td>\n",
       "      <td>Yes</td>\n",
       "      <td>No</td>\n",
       "    </tr>\n",
       "  </tbody>\n",
       "</table>\n",
       "<p>5 rows × 21 columns</p>\n",
       "</div>"
      ],
      "text/plain": [
       "  patient_id              race  gender    age admission_type admission_source  \\\n",
       "0  008222157         Caucasian  Female  00-09  Not available               PR   \n",
       "1  055629189         Caucasian  Female  10-19      Emergency               ER   \n",
       "2  086047875  African_American  Female  20-29      Emergency               ER   \n",
       "3  082442376         Caucasian    Male  30-39      Emergency               ER   \n",
       "4  042519267         Caucasian    Male  40-49      Emergency               ER   \n",
       "\n",
       "   days_in_hospital         medical_specialty  lab_procedures  \\\n",
       "0                 1  Pediatrics-Endocrinology              41   \n",
       "1                 3                    Others              59   \n",
       "2                 2                    Others              11   \n",
       "3                 2                    Others              44   \n",
       "4                 1                    Others              51   \n",
       "\n",
       "   num_of_medications  ...  emergency  inpatient  diagnosis  glucose_serum  \\\n",
       "0                   1  ...          0          0          1        No test   \n",
       "1                  18  ...          0          0          9        No test   \n",
       "2                  13  ...          0          1          6        No test   \n",
       "3                  16  ...          0          0          7        No test   \n",
       "4                   8  ...          0          0          5        No test   \n",
       "\n",
       "  A1C_result metformin insulin change medications    readmitted  \n",
       "0    No test        No      No     No          No            No  \n",
       "1    No test        No      Up    Yes         Yes  Over 30 days  \n",
       "2    No test        No      No     No         Yes            No  \n",
       "3    No test        No      Up    Yes         Yes            No  \n",
       "4    No test        No  Steady    Yes         Yes            No  \n",
       "\n",
       "[5 rows x 21 columns]"
      ]
     },
     "execution_count": 55,
     "metadata": {},
     "output_type": "execute_result"
    }
   ],
   "source": [
    "diabetes.head()"
   ]
  },
  {
   "cell_type": "code",
   "execution_count": 56,
   "id": "b288666e",
   "metadata": {},
   "outputs": [
    {
     "data": {
      "text/html": [
       "<div>\n",
       "<style scoped>\n",
       "    .dataframe tbody tr th:only-of-type {\n",
       "        vertical-align: middle;\n",
       "    }\n",
       "\n",
       "    .dataframe tbody tr th {\n",
       "        vertical-align: top;\n",
       "    }\n",
       "\n",
       "    .dataframe thead th {\n",
       "        text-align: right;\n",
       "    }\n",
       "</style>\n",
       "<table border=\"1\" class=\"dataframe\">\n",
       "  <thead>\n",
       "    <tr style=\"text-align: right;\">\n",
       "      <th></th>\n",
       "      <th>patient_id</th>\n",
       "      <th>race</th>\n",
       "      <th>gender</th>\n",
       "      <th>age</th>\n",
       "      <th>admission_type</th>\n",
       "      <th>admission_source</th>\n",
       "      <th>days_in_hospital</th>\n",
       "      <th>medical_specialty</th>\n",
       "      <th>lab_procedures</th>\n",
       "      <th>num_of_medications</th>\n",
       "      <th>...</th>\n",
       "      <th>emergency</th>\n",
       "      <th>inpatient</th>\n",
       "      <th>diagnosis</th>\n",
       "      <th>glucose_serum</th>\n",
       "      <th>A1C_result</th>\n",
       "      <th>metformin</th>\n",
       "      <th>insulin</th>\n",
       "      <th>change</th>\n",
       "      <th>medications</th>\n",
       "      <th>readmitted</th>\n",
       "    </tr>\n",
       "  </thead>\n",
       "  <tbody>\n",
       "    <tr>\n",
       "      <th>64417</th>\n",
       "      <td>085888323</td>\n",
       "      <td>Caucasian</td>\n",
       "      <td>Male</td>\n",
       "      <td>50-59</td>\n",
       "      <td>Not available</td>\n",
       "      <td>PR</td>\n",
       "      <td>2</td>\n",
       "      <td>Others</td>\n",
       "      <td>50</td>\n",
       "      <td>24</td>\n",
       "      <td>...</td>\n",
       "      <td>0</td>\n",
       "      <td>0</td>\n",
       "      <td>8</td>\n",
       "      <td>No test</td>\n",
       "      <td>Greater than 8</td>\n",
       "      <td>No</td>\n",
       "      <td>Up</td>\n",
       "      <td>Yes</td>\n",
       "      <td>Yes</td>\n",
       "      <td>Over 30 days</td>\n",
       "    </tr>\n",
       "    <tr>\n",
       "      <th>88059</th>\n",
       "      <td>044496522</td>\n",
       "      <td>Caucasian</td>\n",
       "      <td>Male</td>\n",
       "      <td>80-89</td>\n",
       "      <td>Emergency</td>\n",
       "      <td>ER</td>\n",
       "      <td>5</td>\n",
       "      <td>Others</td>\n",
       "      <td>71</td>\n",
       "      <td>23</td>\n",
       "      <td>...</td>\n",
       "      <td>0</td>\n",
       "      <td>0</td>\n",
       "      <td>8</td>\n",
       "      <td>No test</td>\n",
       "      <td>No test</td>\n",
       "      <td>No</td>\n",
       "      <td>No</td>\n",
       "      <td>No</td>\n",
       "      <td>No</td>\n",
       "      <td>No</td>\n",
       "    </tr>\n",
       "    <tr>\n",
       "      <th>29609</th>\n",
       "      <td>093180798</td>\n",
       "      <td>Hispanic</td>\n",
       "      <td>Male</td>\n",
       "      <td>60-69</td>\n",
       "      <td>Urgent</td>\n",
       "      <td>PR</td>\n",
       "      <td>2</td>\n",
       "      <td>Family/GeneralPractice</td>\n",
       "      <td>37</td>\n",
       "      <td>7</td>\n",
       "      <td>...</td>\n",
       "      <td>0</td>\n",
       "      <td>0</td>\n",
       "      <td>8</td>\n",
       "      <td>No test</td>\n",
       "      <td>No test</td>\n",
       "      <td>No</td>\n",
       "      <td>No</td>\n",
       "      <td>No</td>\n",
       "      <td>Yes</td>\n",
       "      <td>No</td>\n",
       "    </tr>\n",
       "    <tr>\n",
       "      <th>67913</th>\n",
       "      <td>042977250</td>\n",
       "      <td>Caucasian</td>\n",
       "      <td>Female</td>\n",
       "      <td>70-79</td>\n",
       "      <td>Emergency</td>\n",
       "      <td>ER</td>\n",
       "      <td>4</td>\n",
       "      <td>Others</td>\n",
       "      <td>50</td>\n",
       "      <td>22</td>\n",
       "      <td>...</td>\n",
       "      <td>0</td>\n",
       "      <td>1</td>\n",
       "      <td>4</td>\n",
       "      <td>No test</td>\n",
       "      <td>No test</td>\n",
       "      <td>No</td>\n",
       "      <td>Down</td>\n",
       "      <td>Yes</td>\n",
       "      <td>Yes</td>\n",
       "      <td>Over 30 days</td>\n",
       "    </tr>\n",
       "    <tr>\n",
       "      <th>98331</th>\n",
       "      <td>125856599</td>\n",
       "      <td>Caucasian</td>\n",
       "      <td>Male</td>\n",
       "      <td>80-89</td>\n",
       "      <td>Emergency</td>\n",
       "      <td>ER</td>\n",
       "      <td>6</td>\n",
       "      <td>Others</td>\n",
       "      <td>57</td>\n",
       "      <td>14</td>\n",
       "      <td>...</td>\n",
       "      <td>0</td>\n",
       "      <td>0</td>\n",
       "      <td>9</td>\n",
       "      <td>No test</td>\n",
       "      <td>No test</td>\n",
       "      <td>No</td>\n",
       "      <td>No</td>\n",
       "      <td>Yes</td>\n",
       "      <td>Yes</td>\n",
       "      <td>No</td>\n",
       "    </tr>\n",
       "    <tr>\n",
       "      <th>81687</th>\n",
       "      <td>052919784</td>\n",
       "      <td>Caucasian</td>\n",
       "      <td>Male</td>\n",
       "      <td>80-89</td>\n",
       "      <td>Emergency</td>\n",
       "      <td>ER</td>\n",
       "      <td>2</td>\n",
       "      <td>Others</td>\n",
       "      <td>39</td>\n",
       "      <td>7</td>\n",
       "      <td>...</td>\n",
       "      <td>0</td>\n",
       "      <td>1</td>\n",
       "      <td>9</td>\n",
       "      <td>No test</td>\n",
       "      <td>No test</td>\n",
       "      <td>No</td>\n",
       "      <td>No</td>\n",
       "      <td>No</td>\n",
       "      <td>No</td>\n",
       "      <td>Below 30 days</td>\n",
       "    </tr>\n",
       "    <tr>\n",
       "      <th>81909</th>\n",
       "      <td>069236145</td>\n",
       "      <td>Caucasian</td>\n",
       "      <td>Female</td>\n",
       "      <td>70-79</td>\n",
       "      <td>Urgent</td>\n",
       "      <td>PR</td>\n",
       "      <td>6</td>\n",
       "      <td>Psychiatry</td>\n",
       "      <td>20</td>\n",
       "      <td>14</td>\n",
       "      <td>...</td>\n",
       "      <td>0</td>\n",
       "      <td>0</td>\n",
       "      <td>9</td>\n",
       "      <td>No test</td>\n",
       "      <td>No test</td>\n",
       "      <td>Steady</td>\n",
       "      <td>No</td>\n",
       "      <td>Yes</td>\n",
       "      <td>Yes</td>\n",
       "      <td>No</td>\n",
       "    </tr>\n",
       "    <tr>\n",
       "      <th>21882</th>\n",
       "      <td>005460093</td>\n",
       "      <td>African_American</td>\n",
       "      <td>Female</td>\n",
       "      <td>50-59</td>\n",
       "      <td>Emergency</td>\n",
       "      <td>ER</td>\n",
       "      <td>3</td>\n",
       "      <td>Family/GeneralPractice</td>\n",
       "      <td>33</td>\n",
       "      <td>13</td>\n",
       "      <td>...</td>\n",
       "      <td>0</td>\n",
       "      <td>0</td>\n",
       "      <td>6</td>\n",
       "      <td>No test</td>\n",
       "      <td>No test</td>\n",
       "      <td>Steady</td>\n",
       "      <td>Up</td>\n",
       "      <td>Yes</td>\n",
       "      <td>Yes</td>\n",
       "      <td>No</td>\n",
       "    </tr>\n",
       "    <tr>\n",
       "      <th>8833</th>\n",
       "      <td>088904682</td>\n",
       "      <td>Caucasian</td>\n",
       "      <td>Female</td>\n",
       "      <td>60-69</td>\n",
       "      <td>Emergency</td>\n",
       "      <td>ER</td>\n",
       "      <td>5</td>\n",
       "      <td>Family/GeneralPractice</td>\n",
       "      <td>48</td>\n",
       "      <td>9</td>\n",
       "      <td>...</td>\n",
       "      <td>0</td>\n",
       "      <td>0</td>\n",
       "      <td>7</td>\n",
       "      <td>No test</td>\n",
       "      <td>No test</td>\n",
       "      <td>No</td>\n",
       "      <td>No</td>\n",
       "      <td>No</td>\n",
       "      <td>No</td>\n",
       "      <td>Over 30 days</td>\n",
       "    </tr>\n",
       "    <tr>\n",
       "      <th>70393</th>\n",
       "      <td>092030454</td>\n",
       "      <td>Caucasian</td>\n",
       "      <td>Male</td>\n",
       "      <td>60-69</td>\n",
       "      <td>Emergency</td>\n",
       "      <td>ER</td>\n",
       "      <td>4</td>\n",
       "      <td>Others</td>\n",
       "      <td>49</td>\n",
       "      <td>12</td>\n",
       "      <td>...</td>\n",
       "      <td>0</td>\n",
       "      <td>0</td>\n",
       "      <td>8</td>\n",
       "      <td>No test</td>\n",
       "      <td>Greater than 8</td>\n",
       "      <td>Steady</td>\n",
       "      <td>No</td>\n",
       "      <td>Yes</td>\n",
       "      <td>Yes</td>\n",
       "      <td>Over 30 days</td>\n",
       "    </tr>\n",
       "  </tbody>\n",
       "</table>\n",
       "<p>10 rows × 21 columns</p>\n",
       "</div>"
      ],
      "text/plain": [
       "      patient_id              race  gender    age admission_type  \\\n",
       "64417  085888323         Caucasian    Male  50-59  Not available   \n",
       "88059  044496522         Caucasian    Male  80-89      Emergency   \n",
       "29609  093180798          Hispanic    Male  60-69         Urgent   \n",
       "67913  042977250         Caucasian  Female  70-79      Emergency   \n",
       "98331  125856599         Caucasian    Male  80-89      Emergency   \n",
       "81687  052919784         Caucasian    Male  80-89      Emergency   \n",
       "81909  069236145         Caucasian  Female  70-79         Urgent   \n",
       "21882  005460093  African_American  Female  50-59      Emergency   \n",
       "8833   088904682         Caucasian  Female  60-69      Emergency   \n",
       "70393  092030454         Caucasian    Male  60-69      Emergency   \n",
       "\n",
       "      admission_source  days_in_hospital       medical_specialty  \\\n",
       "64417               PR                 2                  Others   \n",
       "88059               ER                 5                  Others   \n",
       "29609               PR                 2  Family/GeneralPractice   \n",
       "67913               ER                 4                  Others   \n",
       "98331               ER                 6                  Others   \n",
       "81687               ER                 2                  Others   \n",
       "81909               PR                 6              Psychiatry   \n",
       "21882               ER                 3  Family/GeneralPractice   \n",
       "8833                ER                 5  Family/GeneralPractice   \n",
       "70393               ER                 4                  Others   \n",
       "\n",
       "       lab_procedures  num_of_medications  ...  emergency  inpatient  \\\n",
       "64417              50                  24  ...          0          0   \n",
       "88059              71                  23  ...          0          0   \n",
       "29609              37                   7  ...          0          0   \n",
       "67913              50                  22  ...          0          1   \n",
       "98331              57                  14  ...          0          0   \n",
       "81687              39                   7  ...          0          1   \n",
       "81909              20                  14  ...          0          0   \n",
       "21882              33                  13  ...          0          0   \n",
       "8833               48                   9  ...          0          0   \n",
       "70393              49                  12  ...          0          0   \n",
       "\n",
       "       diagnosis  glucose_serum      A1C_result metformin insulin change  \\\n",
       "64417          8        No test  Greater than 8        No      Up    Yes   \n",
       "88059          8        No test         No test        No      No     No   \n",
       "29609          8        No test         No test        No      No     No   \n",
       "67913          4        No test         No test        No    Down    Yes   \n",
       "98331          9        No test         No test        No      No    Yes   \n",
       "81687          9        No test         No test        No      No     No   \n",
       "81909          9        No test         No test    Steady      No    Yes   \n",
       "21882          6        No test         No test    Steady      Up    Yes   \n",
       "8833           7        No test         No test        No      No     No   \n",
       "70393          8        No test  Greater than 8    Steady      No    Yes   \n",
       "\n",
       "      medications     readmitted  \n",
       "64417         Yes   Over 30 days  \n",
       "88059          No             No  \n",
       "29609         Yes             No  \n",
       "67913         Yes   Over 30 days  \n",
       "98331         Yes             No  \n",
       "81687          No  Below 30 days  \n",
       "81909         Yes             No  \n",
       "21882         Yes             No  \n",
       "8833           No   Over 30 days  \n",
       "70393         Yes   Over 30 days  \n",
       "\n",
       "[10 rows x 21 columns]"
      ]
     },
     "execution_count": 56,
     "metadata": {},
     "output_type": "execute_result"
    }
   ],
   "source": [
    "diabetes.sample(10)"
   ]
  },
  {
   "cell_type": "code",
   "execution_count": 57,
   "id": "9c7c1130",
   "metadata": {},
   "outputs": [
    {
     "name": "stdout",
     "output_type": "stream",
     "text": [
      "<class 'pandas.core.frame.DataFrame'>\n",
      "RangeIndex: 101766 entries, 0 to 101765\n",
      "Data columns (total 21 columns):\n",
      " #   Column              Non-Null Count   Dtype   \n",
      "---  ------              --------------   -----   \n",
      " 0   patient_id          101766 non-null  object  \n",
      " 1   race                101766 non-null  category\n",
      " 2   gender              101766 non-null  category\n",
      " 3   age                 101766 non-null  category\n",
      " 4   admission_type      101766 non-null  category\n",
      " 5   admission_source    101766 non-null  category\n",
      " 6   days_in_hospital    101766 non-null  int64   \n",
      " 7   medical_specialty   101766 non-null  category\n",
      " 8   lab_procedures      101766 non-null  int64   \n",
      " 9   num_of_medications  101766 non-null  int64   \n",
      " 10  outpatient          101766 non-null  int64   \n",
      " 11  emergency           101766 non-null  int64   \n",
      " 12  inpatient           101766 non-null  int64   \n",
      " 13  diagnosis           101766 non-null  int64   \n",
      " 14  glucose_serum       101766 non-null  category\n",
      " 15  A1C_result          101766 non-null  category\n",
      " 16  metformin           101766 non-null  category\n",
      " 17  insulin             101766 non-null  category\n",
      " 18  change              101766 non-null  category\n",
      " 19  medications         101766 non-null  category\n",
      " 20  readmitted          101766 non-null  category\n",
      "dtypes: category(13), int64(7), object(1)\n",
      "memory usage: 7.5+ MB\n"
     ]
    }
   ],
   "source": [
    "diabetes.info()"
   ]
  },
  {
   "cell_type": "markdown",
   "id": "c104b6d9",
   "metadata": {},
   "source": [
    "#### <span style = 'color:blue'>Saving cleaned data set</span>"
   ]
  },
  {
   "cell_type": "code",
   "execution_count": 58,
   "id": "c65ab522",
   "metadata": {},
   "outputs": [],
   "source": [
    "diabetes.to_csv('Disbetes_Master.csv', index = False)"
   ]
  },
  {
   "cell_type": "markdown",
   "id": "3e0a02f4",
   "metadata": {},
   "source": [
    "# <span style = 'color:blue'> Summary Statistics</span>"
   ]
  },
  {
   "cell_type": "code",
   "execution_count": 59,
   "id": "563d9dc6",
   "metadata": {},
   "outputs": [
    {
     "data": {
      "text/html": [
       "<div>\n",
       "<style scoped>\n",
       "    .dataframe tbody tr th:only-of-type {\n",
       "        vertical-align: middle;\n",
       "    }\n",
       "\n",
       "    .dataframe tbody tr th {\n",
       "        vertical-align: top;\n",
       "    }\n",
       "\n",
       "    .dataframe thead th {\n",
       "        text-align: right;\n",
       "    }\n",
       "</style>\n",
       "<table border=\"1\" class=\"dataframe\">\n",
       "  <thead>\n",
       "    <tr style=\"text-align: right;\">\n",
       "      <th></th>\n",
       "      <th>days_in_hospital</th>\n",
       "      <th>lab_procedures</th>\n",
       "      <th>num_of_medications</th>\n",
       "      <th>outpatient</th>\n",
       "      <th>emergency</th>\n",
       "      <th>inpatient</th>\n",
       "      <th>diagnosis</th>\n",
       "    </tr>\n",
       "  </thead>\n",
       "  <tbody>\n",
       "    <tr>\n",
       "      <th>count</th>\n",
       "      <td>101766.000000</td>\n",
       "      <td>101766.000000</td>\n",
       "      <td>101766.000000</td>\n",
       "      <td>101766.000000</td>\n",
       "      <td>101766.000000</td>\n",
       "      <td>101766.000000</td>\n",
       "      <td>101766.000000</td>\n",
       "    </tr>\n",
       "    <tr>\n",
       "      <th>mean</th>\n",
       "      <td>4.395987</td>\n",
       "      <td>43.095641</td>\n",
       "      <td>16.021844</td>\n",
       "      <td>0.369357</td>\n",
       "      <td>0.197836</td>\n",
       "      <td>0.635566</td>\n",
       "      <td>7.422607</td>\n",
       "    </tr>\n",
       "    <tr>\n",
       "      <th>std</th>\n",
       "      <td>2.985108</td>\n",
       "      <td>19.674362</td>\n",
       "      <td>8.127566</td>\n",
       "      <td>1.267265</td>\n",
       "      <td>0.930472</td>\n",
       "      <td>1.262863</td>\n",
       "      <td>1.933600</td>\n",
       "    </tr>\n",
       "    <tr>\n",
       "      <th>min</th>\n",
       "      <td>1.000000</td>\n",
       "      <td>1.000000</td>\n",
       "      <td>1.000000</td>\n",
       "      <td>0.000000</td>\n",
       "      <td>0.000000</td>\n",
       "      <td>0.000000</td>\n",
       "      <td>1.000000</td>\n",
       "    </tr>\n",
       "    <tr>\n",
       "      <th>25%</th>\n",
       "      <td>2.000000</td>\n",
       "      <td>31.000000</td>\n",
       "      <td>10.000000</td>\n",
       "      <td>0.000000</td>\n",
       "      <td>0.000000</td>\n",
       "      <td>0.000000</td>\n",
       "      <td>6.000000</td>\n",
       "    </tr>\n",
       "    <tr>\n",
       "      <th>50%</th>\n",
       "      <td>4.000000</td>\n",
       "      <td>44.000000</td>\n",
       "      <td>15.000000</td>\n",
       "      <td>0.000000</td>\n",
       "      <td>0.000000</td>\n",
       "      <td>0.000000</td>\n",
       "      <td>8.000000</td>\n",
       "    </tr>\n",
       "    <tr>\n",
       "      <th>75%</th>\n",
       "      <td>6.000000</td>\n",
       "      <td>57.000000</td>\n",
       "      <td>20.000000</td>\n",
       "      <td>0.000000</td>\n",
       "      <td>0.000000</td>\n",
       "      <td>1.000000</td>\n",
       "      <td>9.000000</td>\n",
       "    </tr>\n",
       "    <tr>\n",
       "      <th>max</th>\n",
       "      <td>14.000000</td>\n",
       "      <td>132.000000</td>\n",
       "      <td>81.000000</td>\n",
       "      <td>42.000000</td>\n",
       "      <td>76.000000</td>\n",
       "      <td>21.000000</td>\n",
       "      <td>16.000000</td>\n",
       "    </tr>\n",
       "  </tbody>\n",
       "</table>\n",
       "</div>"
      ],
      "text/plain": [
       "       days_in_hospital  lab_procedures  num_of_medications     outpatient  \\\n",
       "count     101766.000000   101766.000000       101766.000000  101766.000000   \n",
       "mean           4.395987       43.095641           16.021844       0.369357   \n",
       "std            2.985108       19.674362            8.127566       1.267265   \n",
       "min            1.000000        1.000000            1.000000       0.000000   \n",
       "25%            2.000000       31.000000           10.000000       0.000000   \n",
       "50%            4.000000       44.000000           15.000000       0.000000   \n",
       "75%            6.000000       57.000000           20.000000       0.000000   \n",
       "max           14.000000      132.000000           81.000000      42.000000   \n",
       "\n",
       "           emergency      inpatient      diagnosis  \n",
       "count  101766.000000  101766.000000  101766.000000  \n",
       "mean        0.197836       0.635566       7.422607  \n",
       "std         0.930472       1.262863       1.933600  \n",
       "min         0.000000       0.000000       1.000000  \n",
       "25%         0.000000       0.000000       6.000000  \n",
       "50%         0.000000       0.000000       8.000000  \n",
       "75%         0.000000       1.000000       9.000000  \n",
       "max        76.000000      21.000000      16.000000  "
      ]
     },
     "execution_count": 59,
     "metadata": {},
     "output_type": "execute_result"
    }
   ],
   "source": [
    "diabetes.describe()"
   ]
  },
  {
   "cell_type": "markdown",
   "id": "32f24349",
   "metadata": {},
   "source": [
    "<span style = 'color:blue'>The above gives statistical details about inter value features in the dataset. The mean, standard deviation, minimum value, maximum value, 25th, 50th and 75th percentile can all be deduced from the table for the different features displayed.</span>"
   ]
  },
  {
   "cell_type": "code",
   "execution_count": 60,
   "id": "5b4b0212",
   "metadata": {},
   "outputs": [
    {
     "data": {
      "text/html": [
       "<div>\n",
       "<style scoped>\n",
       "    .dataframe tbody tr th:only-of-type {\n",
       "        vertical-align: middle;\n",
       "    }\n",
       "\n",
       "    .dataframe tbody tr th {\n",
       "        vertical-align: top;\n",
       "    }\n",
       "\n",
       "    .dataframe thead th {\n",
       "        text-align: right;\n",
       "    }\n",
       "</style>\n",
       "<table border=\"1\" class=\"dataframe\">\n",
       "  <thead>\n",
       "    <tr style=\"text-align: right;\">\n",
       "      <th></th>\n",
       "      <th>days_in_hospital</th>\n",
       "      <th>lab_procedures</th>\n",
       "      <th>num_of_medications</th>\n",
       "      <th>outpatient</th>\n",
       "      <th>emergency</th>\n",
       "      <th>inpatient</th>\n",
       "      <th>diagnosis</th>\n",
       "    </tr>\n",
       "  </thead>\n",
       "  <tbody>\n",
       "    <tr>\n",
       "      <th>days_in_hospital</th>\n",
       "      <td>1.000000</td>\n",
       "      <td>0.318450</td>\n",
       "      <td>0.466135</td>\n",
       "      <td>-0.008916</td>\n",
       "      <td>-0.009681</td>\n",
       "      <td>0.073623</td>\n",
       "      <td>0.220186</td>\n",
       "    </tr>\n",
       "    <tr>\n",
       "      <th>lab_procedures</th>\n",
       "      <td>0.318450</td>\n",
       "      <td>1.000000</td>\n",
       "      <td>0.268161</td>\n",
       "      <td>-0.007602</td>\n",
       "      <td>-0.002279</td>\n",
       "      <td>0.039231</td>\n",
       "      <td>0.152773</td>\n",
       "    </tr>\n",
       "    <tr>\n",
       "      <th>num_of_medications</th>\n",
       "      <td>0.466135</td>\n",
       "      <td>0.268161</td>\n",
       "      <td>1.000000</td>\n",
       "      <td>0.045197</td>\n",
       "      <td>0.013180</td>\n",
       "      <td>0.064194</td>\n",
       "      <td>0.261526</td>\n",
       "    </tr>\n",
       "    <tr>\n",
       "      <th>outpatient</th>\n",
       "      <td>-0.008916</td>\n",
       "      <td>-0.007602</td>\n",
       "      <td>0.045197</td>\n",
       "      <td>1.000000</td>\n",
       "      <td>0.091459</td>\n",
       "      <td>0.107338</td>\n",
       "      <td>0.094152</td>\n",
       "    </tr>\n",
       "    <tr>\n",
       "      <th>emergency</th>\n",
       "      <td>-0.009681</td>\n",
       "      <td>-0.002279</td>\n",
       "      <td>0.013180</td>\n",
       "      <td>0.091459</td>\n",
       "      <td>1.000000</td>\n",
       "      <td>0.266559</td>\n",
       "      <td>0.055539</td>\n",
       "    </tr>\n",
       "    <tr>\n",
       "      <th>inpatient</th>\n",
       "      <td>0.073623</td>\n",
       "      <td>0.039231</td>\n",
       "      <td>0.064194</td>\n",
       "      <td>0.107338</td>\n",
       "      <td>0.266559</td>\n",
       "      <td>1.000000</td>\n",
       "      <td>0.104710</td>\n",
       "    </tr>\n",
       "    <tr>\n",
       "      <th>diagnosis</th>\n",
       "      <td>0.220186</td>\n",
       "      <td>0.152773</td>\n",
       "      <td>0.261526</td>\n",
       "      <td>0.094152</td>\n",
       "      <td>0.055539</td>\n",
       "      <td>0.104710</td>\n",
       "      <td>1.000000</td>\n",
       "    </tr>\n",
       "  </tbody>\n",
       "</table>\n",
       "</div>"
      ],
      "text/plain": [
       "                    days_in_hospital  lab_procedures  num_of_medications  \\\n",
       "days_in_hospital            1.000000        0.318450            0.466135   \n",
       "lab_procedures              0.318450        1.000000            0.268161   \n",
       "num_of_medications          0.466135        0.268161            1.000000   \n",
       "outpatient                 -0.008916       -0.007602            0.045197   \n",
       "emergency                  -0.009681       -0.002279            0.013180   \n",
       "inpatient                   0.073623        0.039231            0.064194   \n",
       "diagnosis                   0.220186        0.152773            0.261526   \n",
       "\n",
       "                    outpatient  emergency  inpatient  diagnosis  \n",
       "days_in_hospital     -0.008916  -0.009681   0.073623   0.220186  \n",
       "lab_procedures       -0.007602  -0.002279   0.039231   0.152773  \n",
       "num_of_medications    0.045197   0.013180   0.064194   0.261526  \n",
       "outpatient            1.000000   0.091459   0.107338   0.094152  \n",
       "emergency             0.091459   1.000000   0.266559   0.055539  \n",
       "inpatient             0.107338   0.266559   1.000000   0.104710  \n",
       "diagnosis             0.094152   0.055539   0.104710   1.000000  "
      ]
     },
     "execution_count": 60,
     "metadata": {},
     "output_type": "execute_result"
    }
   ],
   "source": [
    "diabetes.corr()"
   ]
  },
  {
   "cell_type": "markdown",
   "id": "946342cf",
   "metadata": {},
   "source": [
    "<span style = 'color:blue'>The correlation table shows the relationship between features. From the values, there seem to be very strong positive and negative correlations between the datasets. Majority looks like they lack correlation. This will be explored further during visualization.</span>"
   ]
  },
  {
   "cell_type": "markdown",
   "id": "8e098522",
   "metadata": {},
   "source": [
    "# <span style = 'color:blue'> Visualizations</span>"
   ]
  },
  {
   "cell_type": "markdown",
   "id": "859469b6",
   "metadata": {},
   "source": [
    "### <span style = 'color:blue'> Univariate Plot Functions</span>"
   ]
  },
  {
   "cell_type": "code",
   "execution_count": 61,
   "id": "7f813251",
   "metadata": {},
   "outputs": [],
   "source": [
    "def Plot_hist(df, x_parameter, title, x_label, y_label):\n",
    "    \"\"\"\n",
    "    A function that plots the histogram distribution of a feature in a given dataframe.\n",
    "    \n",
    "    Args:\n",
    "        df: dataframe\n",
    "        x_parameter: Feature to be plotted inputed as string with quoatation marks.\n",
    "        title: Histogram title inputed as string with quoatation marks.\n",
    "        x_label: x_axis label inputed as string with quoatation marks.\n",
    "        y_label: y_axis label inputed as string with quoatation marks.\n",
    "    \"\"\"\n",
    "    plt.figure(figsize = [8,6])\n",
    "    plt.hist(data = df, x = x_parameter)\n",
    "    plt.title(title, size = 15, weight = 'bold')\n",
    "    plt.xlabel(x_label, size = 'large', weight = 'bold')\n",
    "    plt.ylabel(y_label, size = 'large', weight = 'bold')\n",
    "    \n",
    "def Count_plot(df, x_parameter, order, title, x_label, y_label):\n",
    "    \"\"\"\n",
    "    A function that plots the histogram distribution of a feature in a given dataframe using seaborn countplot.\n",
    "    \n",
    "    Args:\n",
    "        df: dataframe\n",
    "        x_parameter: Feature to be plotted inputed as string with quoatation marks.\n",
    "        title: Histogram title inputed as string with quoatation marks.\n",
    "        x_label: x_axis label inputed as string with quoatation marks.\n",
    "        y_label: y_axis label inputed as string with quoatation marks.\n",
    "    \"\"\"\n",
    "    plt.figure(figsize = [8,6])\n",
    "    ax = sb.countplot(data = df, x = x_parameter, color = sb.color_palette()[0], order = order)\n",
    "    plt.title(title, size = 15, weight = 'bold')\n",
    "    plt.xlabel(x_label, size = 'large', weight = 'bold')\n",
    "    plt.ylabel(y_label, size = 'large', weight = 'bold')\n",
    "    for p in ax.patches:\n",
    "#         ax.annotate('{:.2f}%'.format((p.get_height()/df.shape[0])*100), (p.get_x()+0.2, p.get_height()+1),\n",
    "#                    ha = 'left', va = 'center_baseline', xytext = (0, 9), textcoords = 'offset points')\n",
    "\n",
    "        ax.annotate('{:.3f}%'.format((p.get_height()/df.shape[0])*100), (p.get_x()+0.2, p.get_height()+1),\n",
    "                   ha = 'left', va = 'bottom')"
   ]
  },
  {
   "cell_type": "markdown",
   "id": "afb48eeb",
   "metadata": {},
   "source": [
    "<span style = 'color:blue'>Exploring the distribution of the features</span>"
   ]
  },
  {
   "cell_type": "code",
   "execution_count": 62,
   "id": "c18274df",
   "metadata": {},
   "outputs": [
    {
     "data": {
      "image/png": "[encoded data removed]",
      "text/plain": [
       "<Figure size 576x432 with 1 Axes>"
      ]
     },
     "metadata": {
      "needs_background": "light"
     },
     "output_type": "display_data"
    }
   ],
   "source": [
    "race = ['Caucasian','African_American', 'Others', 'Hispanic', 'Asian']\n",
    "Count_plot(diabetes, 'race', race, 'Distribution of Race', 'Race', 'Count')"
   ]
  },
  {
   "cell_type": "markdown",
   "id": "c5d12f96",
   "metadata": {},
   "source": [
    "<span style = 'color:blue'>Evident from the distribution, it is seen that the **Caucasian** race has the highest occurrence of diabetic patients with **74.778%** of total treatments. This is followed by the **African_American** race with **18.877%**. The least with **0.630%** being the **Asian** race. There are patient's whose race are unidentified and labelled as **Others** with **3.713%**. The **Hispanic** race contains **2.002%** of the total patients observed.</span>"
   ]
  },
  {
   "cell_type": "code",
   "execution_count": 63,
   "id": "23175786",
   "metadata": {},
   "outputs": [
    {
     "data": {
      "image/png": "[encoded data removed]",
      "text/plain": [
       "<Figure size 576x432 with 1 Axes>"
      ]
     },
     "metadata": {
      "needs_background": "light"
     },
     "output_type": "display_data"
    }
   ],
   "source": [
    "Count_plot(diabetes, 'gender', None, 'Distribution of Gender', 'Gender', 'Count')"
   ]
  },
  {
   "cell_type": "markdown",
   "id": "a8a90486",
   "metadata": {},
   "source": [
    "<span style = 'color:blue'>The gender distribution shows that **53.759%** of the patients were female, while **46.238%** are male. **0.003%** of the gender are either unknown or invalid. **Does this actually mean that the female gender have a higher case of diabetes?**</span>"
   ]
  },
  {
   "cell_type": "code",
   "execution_count": 64,
   "id": "e48b3807",
   "metadata": {},
   "outputs": [
    {
     "data": {
      "image/png": "[encoded data removed]",
      "text/plain": [
       "<Figure size 576x432 with 1 Axes>"
      ]
     },
     "metadata": {
      "needs_background": "light"
     },
     "output_type": "display_data"
    }
   ],
   "source": [
    "Count_plot(diabetes, 'age', None, 'Distribution of Age', 'Age (Years)', 'Count')"
   ]
  },
  {
   "cell_type": "markdown",
   "id": "e2419108",
   "metadata": {},
   "source": [
    "<span style = 'color:blue'>The age distribution shows a steep rise from **0-10** years to **70-80** years, and then a sharp decline to **80-90** years and further decline to **90-100** years. **70-80** years has the highest occurence of diabetes with **25.616%**, this is followed by "
   ]
  },
  {
   "cell_type": "code",
   "execution_count": null,
   "id": "232e2396",
   "metadata": {},
   "outputs": [],
   "source": []
  },
  {
   "cell_type": "code",
   "execution_count": null,
   "id": "30dd66bb",
   "metadata": {},
   "outputs": [],
   "source": []
  }
 ],
 "metadata": {
  "kernelspec": {
   "display_name": "Python 3 (ipykernel)",
   "language": "python",
   "name": "python3"
  },
  "language_info": {
   "codemirror_mode": {
    "name": "ipython",
    "version": 3
   },
   "file_extension": ".py",
   "mimetype": "text/x-python",
   "name": "python",
   "nbconvert_exporter": "python",
   "pygments_lexer": "ipython3",
   "version": "3.9.12"
  }
 },
 "nbformat": 4,
 "nbformat_minor": 5
}
